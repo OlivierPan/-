{
 "cells": [
  {
   "cell_type": "markdown",
   "metadata": {},
   "source": [
    "# 剑指offer 读书笔记\n",
    "\n",
    "## 第一章\n",
    "1. Linked List an Binary Tree，链表的插入和删除节点，二叉树的各种loop和incursion\n",
    "2. 查找、排序是算法重点，二分查找、归并排序和快速排序，再难一些就是动态规划和贪婪算法\n",
    "3. 写代码：边界条件、特殊输入、错误处理\n",
    "4. 不问薪水\n",
    "\n",
    "## 第二章：面试需要的基础知识\n",
    "<font color='red'>\n",
    "C++\n",
    "</font>\n",
    "\n",
    "\n",
    "\n",
    "## 看过往的面试题，到Glassdoor上找\n",
    "## Jit bit's SQL : interview questions\n",
    "解题思路\n",
    "* brute force\n",
    "* think of a simpler version of the pro\n",
    "* think with simple exemples\n",
    "* use some visualisation\n",
    "* tester\n",
    "\n"
   ]
  },
  {
   "cell_type": "code",
   "execution_count": 183,
   "metadata": {},
   "outputs": [
    {
     "name": "stdout",
     "output_type": "stream",
     "text": [
      "ppp============ 3\n",
      "mmm============ 3\n",
      "ppp============ 6\n",
      "mmm============ 6\n",
      "ppp============ 1\n",
      "mmm============ 6\n",
      "ppp============ 7\n",
      "mmm============ 7\n"
     ]
    },
    {
     "data": {
      "text/plain": [
       "7"
      ]
     },
     "execution_count": 183,
     "metadata": {},
     "output_type": "execute_result"
    }
   ],
   "source": [
    "####最大子序和\n",
    "nums = [1,2,3,-5,6]\n",
    "\n",
    "def maxSubArray(nums):\n",
    "    if len(nums) == 0:\n",
    "        return 0\n",
    "    preSum = maxSum = nums[0]\n",
    "    for i in range(1, len(nums)):\n",
    "        preSum = max(preSum + nums[i], nums[i])\n",
    "        print(\"ppp============\",preSum)\n",
    "        maxSum = max(maxSum, preSum)\n",
    "        print(\"mmm============\",maxSum)\n",
    "    return maxSum\n",
    "maxSubArray(nums)"
   ]
  },
  {
   "cell_type": "code",
   "execution_count": null,
   "metadata": {},
   "outputs": [],
   "source": [
    "# 写recursion函数，else当中别忘了return\n",
    "def digital_root(n):\n",
    "    sum = 0\n",
    "    for i in range(0, len(str(n))):\n",
    "        sum += int(str(n)[i])\n",
    "#         print(sum)\n",
    "        \n",
    "    if sum < 10:\n",
    "        return sum\n",
    "    else:\n",
    "        return digital_root(sum)\n",
    "n=23423"
   ]
  },
  {
   "cell_type": "code",
   "execution_count": null,
   "metadata": {},
   "outputs": [],
   "source": [
    "# 字符串要替换，一定要用replace\n",
    "def decodeMorse(morse_code):\n",
    "    # ToDo: Accept dots, dashes and spaces, return human-readable message\n",
    "    morse_code = morse_code.strip()\n",
    "    word_sequence = [word for word in morse_code.split(\"   \")]\n",
    "    \n",
    "    word_list = []\n",
    "    for word in word_sequence:\n",
    "        vocab = ''\n",
    "        chars = word.split(' ')\n",
    "        for char in chars:\n",
    "            letter = MORSE_CODE[char]\n",
    "            vocab += letter\n",
    "        word_list.append(vocab)\n",
    "        \n",
    "    phrase = \" \".join(word_list)     \n",
    "    return phrase"
   ]
  },
  {
   "cell_type": "code",
   "execution_count": 30,
   "metadata": {},
   "outputs": [
    {
     "data": {
      "text/plain": [
       "1279"
      ]
     },
     "execution_count": 30,
     "metadata": {},
     "output_type": "execute_result"
    }
   ],
   "source": [
    "def getCount(inputStr):\n",
    "    return sum(1 for let in inputStr if let in \"aeiouAEIOU\") #  这写法太骚了\n",
    "\n",
    "c=sum((23,1233,23))\n",
    "c"
   ]
  },
  {
   "cell_type": "code",
   "execution_count": 77,
   "metadata": {},
   "outputs": [],
   "source": [
    "def find_even_index(arr):\n",
    "    left_begin = [sum(arr[0:i]) for i in range(1, len(arr)+1)]\n",
    "    right_begin = [sum(arr[::-1][0:i]) for i in range(1, len(arr)+1)][::-1]\n",
    "    for i in range(0, len(arr)):\n",
    "        if left_begin[i] == right_begin[i]:\n",
    "            return i\n",
    "            break\n",
    "    else:\n",
    "        return -1\n",
    "    \n",
    "## 下面的写法太骚了\n",
    "\n",
    "def find_even_index(arr):\n",
    "    for i in range(len(arr)):\n",
    "        if sum(arr[:i]) == sum(arr[i+1:]):\n",
    "            return i\n",
    "    return -1\n"
   ]
  },
  {
   "cell_type": "code",
   "execution_count": 114,
   "metadata": {},
   "outputs": [
    {
     "data": {
      "text/plain": [
       "[(200, 2), (100, 1), (300, 1)]"
      ]
     },
     "execution_count": 114,
     "metadata": {},
     "output_type": "execute_result"
    }
   ],
   "source": [
    "# 注意，range（1， 5）， 不包括5！\n",
    "d=Counter([100,200,200,300])\n",
    "d.most_common()[0][0]\n",
    "    \n",
    "# Python 中的list，能不remove，delete尽量不，因为会改变其构造，对循环之类的会有影响，最好是新造一个列表，然后添加    \n",
    "    \n",
    "    \n",
    "    \n",
    "# Counter([x1,x2,x3]).most_common(1)[0][0] 这是返回列表当中数显数量最多的，谨记\n",
    "# enumerate 某个序列，返回其index和value\n",
    "# unique_in_order = lambda l: [z for i, z in enumerate(l) if i == 0 or l[i - 1] != z]\n",
    "# [1,2,3,4,5,6,7][0:-3]"
   ]
  },
  {
   "cell_type": "code",
   "execution_count": 123,
   "metadata": {},
   "outputs": [
    {
     "name": "stdout",
     "output_type": "stream",
     "text": [
      "[1, 2]\n"
     ]
    }
   ],
   "source": [
    "aa='AAABBBCC'\n",
    "aa.split('B')\n",
    "# 结果会是['AAA', '', '', 'CC'] ！！！ split的工作原理不是消除！\n",
    "d=[]\n",
    "d.extend([1,2])\n",
    "print(d)\n",
    "\n",
    "# this is near cheating\n",
    "def tower_builder(n):\n",
    "    return [(\"*\" * (i*2-1)).center(n*2-1) for i in range(1, n+1)]\n",
    "s = \"abc\"\n",
    "cc= s.center(100,'*')"
   ]
  },
  {
   "cell_type": "code",
   "execution_count": 137,
   "metadata": {},
   "outputs": [
    {
     "name": "stdout",
     "output_type": "stream",
     "text": [
      "[1, 3, 5, 7, 9]\n",
      "9\n",
      "1\n"
     ]
    },
    {
     "ename": "TypeError",
     "evalue": "can't multiply sequence by non-int of type 'float'",
     "output_type": "error",
     "traceback": [
      "\u001b[0;31m---------------------------------------------------------------------------\u001b[0m",
      "\u001b[0;31mTypeError\u001b[0m                                 Traceback (most recent call last)",
      "\u001b[0;32m<ipython-input-137-22a74c954b4a>\u001b[0m in \u001b[0;36m<module>\u001b[0;34m\u001b[0m\n\u001b[1;32m     17\u001b[0m             \u001b[0mresult\u001b[0m\u001b[0;34m.\u001b[0m\u001b[0mappend\u001b[0m\u001b[0;34m(\u001b[0m\u001b[0mc\u001b[0m\u001b[0;34m)\u001b[0m\u001b[0;34m\u001b[0m\u001b[0;34m\u001b[0m\u001b[0m\n\u001b[1;32m     18\u001b[0m         \u001b[0;32mreturn\u001b[0m \u001b[0mresult\u001b[0m\u001b[0;34m\u001b[0m\u001b[0;34m\u001b[0m\u001b[0m\n\u001b[0;32m---> 19\u001b[0;31m \u001b[0mtower_builder\u001b[0m\u001b[0;34m(\u001b[0m\u001b[0;36m5\u001b[0m\u001b[0;34m)\u001b[0m\u001b[0;34m\u001b[0m\u001b[0;34m\u001b[0m\u001b[0m\n\u001b[0m",
      "\u001b[0;32m<ipython-input-137-22a74c954b4a>\u001b[0m in \u001b[0;36mtower_builder\u001b[0;34m(n_floors)\u001b[0m\n\u001b[1;32m     13\u001b[0m         \u001b[0;32mfor\u001b[0m \u001b[0ms\u001b[0m \u001b[0;32min\u001b[0m \u001b[0mstart\u001b[0m\u001b[0;34m:\u001b[0m\u001b[0;34m\u001b[0m\u001b[0;34m\u001b[0m\u001b[0m\n\u001b[1;32m     14\u001b[0m             \u001b[0mprint\u001b[0m\u001b[0;34m(\u001b[0m\u001b[0ms\u001b[0m\u001b[0;34m)\u001b[0m\u001b[0;34m\u001b[0m\u001b[0;34m\u001b[0m\u001b[0m\n\u001b[0;32m---> 15\u001b[0;31m             \u001b[0mc\u001b[0m\u001b[0;34m=\u001b[0m \u001b[0;34m' '\u001b[0m\u001b[0;34m*\u001b[0m\u001b[0;34m(\u001b[0m\u001b[0;34m(\u001b[0m\u001b[0mlength\u001b[0m \u001b[0;34m-\u001b[0m \u001b[0ms\u001b[0m\u001b[0;34m)\u001b[0m\u001b[0;34m/\u001b[0m\u001b[0;36m2\u001b[0m\u001b[0;34m)\u001b[0m \u001b[0;34m+\u001b[0m \u001b[0;34m'*'\u001b[0m\u001b[0;34m*\u001b[0m\u001b[0ms\u001b[0m \u001b[0;34m+\u001b[0m \u001b[0;34m' '\u001b[0m\u001b[0;34m*\u001b[0m\u001b[0;34m(\u001b[0m\u001b[0;34m(\u001b[0m\u001b[0mlength\u001b[0m \u001b[0;34m-\u001b[0m \u001b[0ms\u001b[0m\u001b[0;34m)\u001b[0m\u001b[0;34m/\u001b[0m\u001b[0;36m2\u001b[0m\u001b[0;34m)\u001b[0m\u001b[0;34m\u001b[0m\u001b[0;34m\u001b[0m\u001b[0m\n\u001b[0m\u001b[1;32m     16\u001b[0m             \u001b[0mprint\u001b[0m\u001b[0;34m(\u001b[0m\u001b[0mc\u001b[0m\u001b[0;34m)\u001b[0m\u001b[0;34m\u001b[0m\u001b[0;34m\u001b[0m\u001b[0m\n\u001b[1;32m     17\u001b[0m             \u001b[0mresult\u001b[0m\u001b[0;34m.\u001b[0m\u001b[0mappend\u001b[0m\u001b[0;34m(\u001b[0m\u001b[0mc\u001b[0m\u001b[0;34m)\u001b[0m\u001b[0;34m\u001b[0m\u001b[0;34m\u001b[0m\u001b[0m\n",
      "\u001b[0;31mTypeError\u001b[0m: can't multiply sequence by non-int of type 'float'"
     ]
    }
   ],
   "source": [
    "def tower_builder(n_floors):\n",
    "    n = n_floors\n",
    "    if n == 1:\n",
    "        return ['*']\n",
    "    else:\n",
    "        start = [1]\n",
    "        while len(start) < n:\n",
    "            start.append(start[-1]+2)\n",
    "        print(start)\n",
    "        length = start[-1]\n",
    "        print(length)\n",
    "        result = []\n",
    "        for s in start:\n",
    "            print(s)\n",
    "            c= ' '*((length - s)/2) + '*'*s + ' '*((length - s)/2)\n",
    "            print(c)\n",
    "            result.append(c)\n",
    "        return result\n",
    "tower_builder(5)"
   ]
  },
  {
   "cell_type": "code",
   "execution_count": 140,
   "metadata": {},
   "outputs": [
    {
     "name": "stdout",
     "output_type": "stream",
     "text": [
      "9\n",
      "4.0\n",
      "    *    \n",
      "3.0\n",
      "   ***   \n",
      "2.0\n",
      "  *****  \n",
      "1.0\n",
      " ******* \n",
      "0.0\n",
      "*********\n"
     ]
    }
   ],
   "source": [
    "a=[-1,3,8,2,9,5]\n",
    "b=[4,1,2,10,5,20]\n",
    "sumtarget = 24\n",
    "# from a, b take one argument, see if sum()=24, sinon, closest to 24\n"
   ]
  },
  {
   "cell_type": "code",
   "execution_count": 145,
   "metadata": {},
   "outputs": [
    {
     "data": {
      "text/plain": [
       "'************************************************abc*************************************************'"
      ]
     },
     "execution_count": 145,
     "metadata": {},
     "output_type": "execute_result"
    }
   ],
   "source": [
    "## C language particular\n",
    "char str[10];\n",
    "strcpy(str, '0123456789')\n",
    "这个是错误的，因为每个字符串都以‘\\0’结尾\n",
    "所以，char str[]=\"happy\";\n",
    "sizeof(char) = 6\n",
    "\n"
   ]
  },
  {
   "cell_type": "code",
   "execution_count": 150,
   "metadata": {},
   "outputs": [
    {
     "data": {
      "text/plain": [
       "'f'"
      ]
     },
     "execution_count": 150,
     "metadata": {},
     "output_type": "execute_result"
    }
   ],
   "source": [
    "# 递归在本质上就是一个栈结构\n",
    "# 基于递归的代码虽然看起来简洁，但是有一个问题：当链表非常长的时候，就会导致函数调用的层次很深，从而可能导致函数调用栈溢出。\n",
    "# 用栈基于循环实现的代码的鲁棒性更好一些\n",
    "\n",
    "# 递归由于是函数调用自身，而函数调用是有时间和空间的消耗的：每一次函数调用，都需要在内存栈中分配空间以保存参数、返回地址及临时变量，而且往\n",
    "# 栈里压入数据和弹出数据都需要时间，所以其效率不如循环\n",
    "\n",
    "\n",
    "\n",
    "# 二分查找，应该是信手拈来才行"
   ]
  },
  {
   "cell_type": "code",
   "execution_count": 176,
   "metadata": {},
   "outputs": [
    {
     "name": "stdout",
     "output_type": "stream",
     "text": [
      "2178309\n",
      "--- 0.807384729385376 seconds ---\n",
      "2178309\n",
      "--- 0.00017571449279785156 seconds ---\n"
     ]
    }
   ],
   "source": [
    "# Fibonacci 用recursion和用loop的时间对比，天壤之别\n",
    "import time\n",
    "start_time = time.time()\n",
    "\n",
    "\n",
    "def fibo(n):\n",
    "    if n == 0:\n",
    "        return 0\n",
    "    elif n == 1:\n",
    "        return 1\n",
    "    else:\n",
    "        return fibo(n-1)+fibo(n-2);\n",
    "\n",
    "print(fibo(32))\n",
    "print(\"--- %s seconds ---\" % (time.time() - start_time))\n",
    "start_time = time.time()\n",
    "def fibo2(n):\n",
    "    if n <2:\n",
    "        return n\n",
    "    else:\n",
    "        minusOne = 0\n",
    "        minusTwo= 1\n",
    "        fibN = 0\n",
    "        for i in range(1,n):\n",
    "            fibN = minusOne + minusTwo\n",
    "            minusOne = minusTwo\n",
    "            minusTwo = fibN\n",
    "            i+=1\n",
    "        return fibN\n",
    "print(fibo2(32))\n",
    "print(\"--- %s seconds ---\" % (time.time() - start_time))"
   ]
  },
  {
   "cell_type": "code",
   "execution_count": null,
   "metadata": {},
   "outputs": [],
   "source": [
    "# 回溯法 == 多个步骤组成的问题\n",
    "\n",
    "跳过了回溯法，动态规划，位运算\n",
    "\n",
    "## 第三章\n",
    "# 命名，用完整的英文单词组合命名变量和函数，以便让人一眼读懂代码意图\n",
    "\n",
    "# 3.3 代码的完整性\n",
    "# 1， 功能测试： 一般功能\n",
    "# 2，边界测试：输入的限制，比如Int 和 Long 或者 Long Long\n",
    "# 3，负面测试：输入非法\n",
    "\n",
    "# 未解决的运算，右移运算符规则，似乎很有用，当用在判断一个数字是奇数还是偶数\n",
    "\n",
    "#     0110 (decimal 6)\n",
    "# AND 0001 (decimal 1)\n",
    "#   = 0000 (decimal 0)\n",
    "    \n",
    "#     因为6 & 1 = 0, 也就是说，在个位上，6只能是个偶数了！！这是bitwise operation\n",
    "    \n",
    "    \n",
    "#     1除最右边的一位之外所有位都是0，如果一个整数与1做与运算的结果是1，则表示，该整数最右边是1，否则是0.\n",
    "    \n",
    "\n",
    "# 我们知道计算机中的数字通常用二进制补码表示。\n",
    "\n",
    "# 如果为正数，补码与原码相同，直接看最后一位（因为数字1的前面N位均为0，跟它做与运算，前面肯定为0），奇数为1，偶数为0，与1相与，结果不变。\n",
    "\n",
    "# 如果为负数，补码转原码：保持符号位不动，其它各位取反+1，即为负数的绝对值原码全部取反+1。还是看最后1位，先取反，再+1，结果还是和原来相同。\n",
    "# 进行与运算时还是原来的末位，所以用跟1做与运算还是保持原来的结果。\n",
    "\n",
    "### python 的位运算是这样的\n",
    "one =1\n",
    "ddd = 131241\n",
    "one&ddd\n",
    "\n",
    "# 《剑指Offer》之后的内容基本是在讲题，分析。\n"
   ]
  },
  {
   "cell_type": "code",
   "execution_count": 114,
   "metadata": {},
   "outputs": [
    {
     "name": "stdout",
     "output_type": "stream",
     "text": [
      "before zip======= [[4, 5, 6], [7, 8, 9]]\n",
      "after zip ======== [(4, 7), (5, 8), (6, 9)]\n",
      "after reverse ==== [(6, 9), (5, 8), (4, 7)]\n",
      "before zip======= [(5, 8), (4, 7)]\n",
      "after zip ======== [(5, 4), (8, 7)]\n",
      "after reverse ==== [(8, 7), (5, 4)]\n",
      "before zip======= [(5, 4)]\n",
      "after zip ======== [(5,), (4,)]\n",
      "after reverse ==== [(4,), (5,)]\n",
      "before zip======= [(5,)]\n",
      "after zip ======== [(5,)]\n",
      "after reverse ==== [(5,)]\n",
      "before zip======= []\n",
      "after zip ======== []\n",
      "after reverse ==== []\n",
      "[1, 2, 3, 6, 9, 8, 7, 4, 5]\n"
     ]
    },
    {
     "data": {
      "text/plain": [
       "[(1, 121, 12), (2, 1213, 34)]"
      ]
     },
     "execution_count": 114,
     "metadata": {},
     "output_type": "execute_result"
    }
   ],
   "source": [
    "def snail(array):\n",
    "    a = []\n",
    "    while array:\n",
    "        a.extend(list(array.pop(0)))\n",
    "        print('before zip=======',array)\n",
    "        array = list(zip(*array))\n",
    "        print('after zip ========',array)\n",
    "        array.reverse()\n",
    "        print('after reverse ====',array)\n",
    "    return a\n",
    "\n",
    "ccc=snail([[1,2,3],[4,5,6],[7,8,9]])\n",
    "print(ccc)\n",
    "\n",
    "# aa=[[1,2],[121,1213]]\n",
    "# ab=[12,34]\n",
    "\n",
    "# cc= list(zip(*aa,ab))\n",
    "# #(这就将这个变量搞成了tuple)\n",
    "\n",
    "#Finally, the least frequently used option is to specify that a function can be called with an arbitrary number of arguments. \n",
    "#These arguments will be wrapped up in a tuple (see Tuples and Sequences). \n",
    "#Before the variable number of arguments, zero or more normal arguments may occur.\n",
    "cc"
   ]
  },
  {
   "cell_type": "code",
   "execution_count": 49,
   "metadata": {},
   "outputs": [
    {
     "data": {
      "text/plain": [
       "[(1, 4, 2)]"
      ]
     },
     "execution_count": 49,
     "metadata": {},
     "output_type": "execute_result"
    }
   ],
   "source": [
    "x = [1, 2, 3,23]\n",
    "y = [4, 5, 6]\n",
    "z=[]\n",
    "zipped = zip(x,y,z)\n",
    "list(zipped) #. ===[]\n",
    "# x2, y2 = zip(*zip(x, y))\n",
    "# x == list(x2) and y == list(y2)\n",
    "\n"
   ]
  },
  {
   "cell_type": "code",
   "execution_count": 91,
   "metadata": {},
   "outputs": [
    {
     "name": "stdout",
     "output_type": "stream",
     "text": [
      "[[3, 6, 23, 234], [23, 232, 43, 12]]\n",
      "[3, 6, 23, 234] [23, 232, 43, 12]\n"
     ]
    },
    {
     "data": {
      "text/plain": [
       "[(3, 23), (6, 232), (23, 43), (234, 12)]"
      ]
     },
     "execution_count": 91,
     "metadata": {},
     "output_type": "execute_result"
    }
   ],
   "source": [
    "list(range(3, 6))            # normal call with separate arguments\n",
    "[3, 4, 5]\n",
    "args = [3, 6,23,234]\n",
    "args2=[23,232,43,12]\n",
    "\n",
    "# list(range(*args))          # call with arguments unpacked from a list\n",
    "# [3, 4, 5]\n",
    "print([args, args2])\n",
    "print(*[args,args2])\n",
    "# print(*args2)\n",
    "\n",
    "list(zip(*[args,args2]))"
   ]
  },
  {
   "cell_type": "code",
   "execution_count": 125,
   "metadata": {},
   "outputs": [
    {
     "name": "stdout",
     "output_type": "stream",
     "text": [
      "d w r f\n",
      "dwrf wrer\n",
      "adf\n",
      "[([4, 5, 6],), ([7, 8, 9],), ([123, 234, 111],)]\n",
      "[[4, 5, 6], [7, 8, 9], [123, 234, 111]]\n",
      "[4, 5, 6] [7, 8, 9] [123, 234, 111]\n",
      "[(4, 7, 123), (5, 8, 234), (6, 9, 111)]\n",
      "a s d f   s f   -   s f\n",
      "1 2\n"
     ]
    }
   ],
   "source": [
    "print(*'dwrf')\n",
    "print(*['dwrf','wrer'])\n",
    "print(*({'adf':123}))\n",
    "arra=[[4, 5, 6], [7, 8, 9],[123,234,111]]\n",
    "print(list(zip(arra)))\n",
    "print(arra)\n",
    "print(*arra)\n",
    "print(list(zip(*arra)))\n",
    "print(*'asdf sf - sf')\n",
    "\n",
    "# Another usage of the *l idiom is to unpack argument lists when calling a function.\n",
    "\n",
    "def foo(bar, lee):\n",
    "    print(bar, lee)\n",
    "\n",
    "l = [1,2]\n",
    "\n",
    "foo(*l)\n",
    "# 1 2\n",
    "\n",
    "def foo(*args):\n",
    "    for a in args:\n",
    "        print(a)        \n",
    "\n",
    "foo(1)\n",
    "# 1\n",
    "\n",
    "foo(1,2,3)\n",
    "# 1\n",
    "# 2\n",
    "# 3"
   ]
  },
  {
   "cell_type": "code",
   "execution_count": 127,
   "metadata": {},
   "outputs": [
    {
     "data": {
      "text/plain": [
       "[2, 3, 4, 3, 4, 5]"
      ]
     },
     "execution_count": 127,
     "metadata": {},
     "output_type": "execute_result"
    }
   ],
   "source": [
    "v=[2,3,4]\n",
    "d=[3,4,5]\n",
    "v+d"
   ]
  },
  {
   "cell_type": "markdown",
   "metadata": {},
   "source": [
    "# Binary search from my code school\n",
    "\n",
    "#### 1, given a sorted array, find if x exists in array\n",
    "#### 2, given a sorted array, find the first or the last occurence of x\n",
    "#### 3, given a sorted array, find how many times X occurs\n",
    "#### 4, How many times a sorted array (no duplicate) rotated ?\n",
    "#### 5, given a circulary sorted array, find if element X inside this array ?"
   ]
  },
  {
   "cell_type": "code",
   "execution_count": 273,
   "metadata": {},
   "outputs": [
    {
     "name": "stdout",
     "output_type": "stream",
     "text": [
      "6\n",
      "2\n",
      "0\n"
     ]
    }
   ],
   "source": [
    "arr = [2,4,34,56,66,75,75,75,75,234,234,25923,3694023,23423134]\n",
    "def binarySearch(Array, x):\n",
    "    start = 0\n",
    "    end = len(Array)-1\n",
    "    while (start <= end):\n",
    "#         mid = (end+start)//2\n",
    "        mid = start + (end-start)//2 # 这个写法更好，因为其避免了end+start过大的问题\n",
    "        print(mid)\n",
    "        if Array[mid] == x:\n",
    "            return mid\n",
    "        elif Array[mid]>x:\n",
    "            end= mid-1\n",
    "        else:\n",
    "            start = mid+1\n",
    "    return -1\n",
    "\n",
    "# binarySearch(arr,234)\n",
    "\n",
    "def binarySearchV2(Array,start,end, x):\n",
    "    if start > end:\n",
    "        print('not found')\n",
    "        return -1\n",
    "    mid = start + (end-start)//2\n",
    "    if Array[mid]==x:\n",
    "        print(mid)\n",
    "        return mid\n",
    "    elif Array[mid]>x:\n",
    "        binarySearchV2(Array,start,mid-1,x)\n",
    "    else:\n",
    "        binarySearchV2(Array,mid+1,end,x)\n",
    "    \n",
    "# binarySearchV2(arr,0,9,664)\n",
    "    \n",
    "    \n",
    "######################################  2 ################################################\n",
    "arr = [2,4,34,56,66,75,75,75,75,234,234,25923,3694023,23423134]\n",
    "def binarySearchFirstOccurence(Array, start, end, x):\n",
    "    start = 0\n",
    "    end = len(Array)-1\n",
    "    result = -1\n",
    "    while (start <= end):\n",
    "#         mid = (end+start)//2\n",
    "        mid = start + (end-start)//2 # 这个写法更好，因为其避免了end+start过大的问题\n",
    "        print(mid)\n",
    "        if Array[mid] == x:\n",
    "#             return mid\n",
    "            result = mid\n",
    "            end = mid - 1\n",
    "        elif Array[mid]>x:\n",
    "            end= mid-1\n",
    "        else:\n",
    "            start = mid+1\n",
    "    return result\n",
    "binarySearchFirstOccurence(arr,0,12,2)\n",
    "\n",
    "def binarySearchLastOccurence(Array, start, end, x):\n",
    "    start = 0\n",
    "    end = len(Array)-1\n",
    "    result = -1\n",
    "    while (start <= end):\n",
    "#         mid = (end+start)//2\n",
    "        mid = start + (end-start)//2 # 这个写法更好，因为其避免了end+start过大的问题\n",
    "        print(mid)\n",
    "        if Array[mid] == x:\n",
    "#             return mid\n",
    "            result = mid\n",
    "            start = mid + 1\n",
    "        elif Array[mid]>x:\n",
    "            end= mid-1\n",
    "        else:\n",
    "            start = mid+1\n",
    "    return result\n",
    "\n",
    "# binarySearchLastOccurence(arr,0,12,23423134)\n",
    "\n",
    "######################################  3   ################################################\n",
    "def binarySearchFirstOrLastOccurence(Array, start, end, x, first=True):\n",
    "    start = 0\n",
    "    end = len(Array)-1\n",
    "    result = -1\n",
    "    while (start <= end):\n",
    "#         mid = (end+start)//2\n",
    "        mid = start + (end-start)//2 # 这个写法更好，因为其避免了end+start过大的问题\n",
    "        print(mid)\n",
    "        if Array[mid] == x:\n",
    "#             return mid\n",
    "            result = mid\n",
    "            if first:\n",
    "                end = mid-1\n",
    "            else:\n",
    "                start = mid + 1\n",
    "        elif Array[mid]>x:\n",
    "            end= mid-1\n",
    "        else:\n",
    "            start = mid+1\n",
    "    return result\n",
    "\n",
    "# binarySearchFirstOrLastOccurence(arr,0,12,705,first=True)\n",
    "\n",
    "def occurenceOfX(Array, x):\n",
    "    first = binarySearchFirstOrLastOccurence(Array,0, len(Array)-1, x, first=True)\n",
    "    if first == -1:\n",
    "        print('Number not found')\n",
    "        return -1\n",
    "    else:\n",
    "        last = binarySearchFirstOrLastOccurence(Array,0, len(Array)-1, x, first=False)\n",
    "    print(last-first+1)\n",
    "    return last-first+1\n",
    "\n",
    "# occurenceOfX(arr, 0)\n",
    "\n",
    "#####################################  4  #################################################\n"
   ]
  },
  {
   "cell_type": "code",
   "execution_count": 22,
   "metadata": {},
   "outputs": [
    {
     "name": "stdout",
     "output_type": "stream",
     "text": [
      "0 11\n",
      "start ==  6\n",
      "6 11\n",
      "rotate 8 times\n"
     ]
    },
    {
     "data": {
      "text/plain": [
       "8"
      ]
     },
     "execution_count": 22,
     "metadata": {},
     "output_type": "execute_result"
    }
   ],
   "source": [
    "sortedarray=[1,3,4,5,7,9,11,23,46,78,99,100]\n",
    "rotate1time=[100,1,3,4,5,7,9,11,23,46,78,99]\n",
    "rotate2time=[99,100,1,3,4,5,7,9,11,23,46,78]\n",
    "rotate3time=[78,99,100,1,3,4,5,7,9,11,23,46]\n",
    "rotate4time=[46,78,99,100,1,3,4,5,7,9,11,23]\n",
    "rotate5time=[23,46,78,99,100,1,3,4,5,7,9,11]\n",
    "rotate6time=[11,23,46,78,99,100,1,3,4,5,7,9]\n",
    "rotate7time=[9,11,23,46,78,99,100,1,3,4,5,7]\n",
    "rotate8time=[7,9,11,23,46,78,99,100,1,3,4,5]\n",
    "\n",
    "bad=[7,9,11,4,23,6,46,78,88,99,100,1,3,4,5]\n",
    "triky=[2,2,2,2,2,2,2,0,1,2]\n",
    "\n",
    "def FindRotationCount(Arr):\n",
    "    start=0\n",
    "    end = len(Arr)-1\n",
    "    if Arr[start] < Arr[end]: # case 1\n",
    "        print('rotate 0 time')\n",
    "        return start\n",
    "    \n",
    "    while start <= end:\n",
    "        print(start, end)\n",
    "#         if (start + (end-start)) < 2:\n",
    "#             mid = (start + (end-start))%2\n",
    "#         else:\n",
    "#             mid = int(start+(end-start)/2)\n",
    "#         print(\"mid====\", mid)\n",
    "        mid = start+(end-start)//2\n",
    "        if (Arr[mid]<=Arr[mid-1]) and (Arr[mid]<=Arr[mid+1]): # case 2\n",
    "            print(f'rotate {mid} times')\n",
    "            return mid\n",
    "        elif Arr[mid] <= Arr[end]:   #case 3！！等于号搞死人\n",
    "            end = mid-1\n",
    "            print(\"end ===\", end)\n",
    "        elif Arr[mid] >= Arr[start]:                       #case 4!!等于号搞死人\n",
    "            start= mid+1\n",
    "            print(\"start == \", start)\n",
    "    print(\"Not found\")\n",
    "    return -1\n",
    "\n",
    "FindRotationCount(rotate8time)\n",
    "#  这个例子中的大于等于号真是搞死人，所以，测试是很关键的，要造出来足够大量的例子去测试一个function\n",
    "# 一定要有足够大量的例子去测试一个方程"
   ]
  },
  {
   "cell_type": "code",
   "execution_count": 264,
   "metadata": {},
   "outputs": [
    {
     "data": {
      "text/plain": [
       "0"
      ]
     },
     "execution_count": 264,
     "metadata": {},
     "output_type": "execute_result"
    }
   ],
   "source": [
    "def CircularArraySearch(Arr,x):\n",
    "    start = 0\n",
    "    end = len(Arr)-1\n",
    "    while start <= end:\n",
    "        mid = int(start+(end-start)/2)\n",
    "        if Arr[mid]==x:\n",
    "            print(\"found the number x == \", mid)\n",
    "            return mid\n",
    "        e"
   ]
  },
  {
   "cell_type": "code",
   "execution_count": 8,
   "metadata": {},
   "outputs": [
    {
     "data": {
      "text/plain": [
       "-1"
      ]
     },
     "execution_count": 8,
     "metadata": {},
     "output_type": "execute_result"
    }
   ],
   "source": [
    "### 面试题3，数组中重复的数字\n",
    "# 在一个长度为N的数组里，所有数字都在0～n-1的范围内。数组中某些数字是重复的，但不知道有几个，也不知道有几次。\n",
    "# 请找出数组中一个重复的数字。\n",
    "# in: arr=[2,3,1,0,2,5,3]\n",
    "# out:2 or 3\n",
    "\n",
    "# arr=[2,3,1,0,2,5,3]\n",
    "# arr=[1,1,1,1,1,1,1]\n",
    "# arr=[]\n",
    "arr=[1,2,3,4,5,6,23]\n",
    "def duplicate(array):\n",
    "    \"\"\"\n",
    "    input: an array\n",
    "    output: the first duplicate nb encountered, or -1 if none\n",
    "    \"\"\"\n",
    "    if len(array)==0:\n",
    "        return -1\n",
    "    for nb in array:    # 为什么这个loop要单独拿出来呢，因为在后面，如果数字过大，会出现index out range的问题\n",
    "        if (nb < 0) or (nb> len(array)-1):\n",
    "            return -1\n",
    "    for i in range(0, len(array)):\n",
    "#         if (array[i] <0) or (array[i]>len(array)-1):  #就是这里，也是最后的一个例子\n",
    "#             return -1    \n",
    "        while array[i] != i:\n",
    "    \n",
    "            if (array[i]==array[array[i]]):\n",
    "                return array[i] # 能够改变，换成是i的换\n",
    "            temp = array[i]\n",
    "            array[i]=array[temp]\n",
    "            array[temp]=temp\n",
    "    return -1\n",
    "\n",
    "duplicate(arr)"
   ]
  },
  {
   "cell_type": "code",
   "execution_count": 43,
   "metadata": {},
   "outputs": [
    {
     "name": "stdout",
     "output_type": "stream",
     "text": [
      "1 19 9\n",
      "in the left side\n",
      "in the left side\n",
      "in the left side\n",
      "in the left side\n",
      "in the left side\n",
      "in the left side\n",
      "in the left side\n",
      "in the left side\n",
      "in the left side\n",
      "1 9 4\n",
      "in the left side\n",
      "in the left side\n",
      "right in the middle\n"
     ]
    },
    {
     "data": {
      "text/plain": [
       "4"
      ]
     },
     "execution_count": 43,
     "metadata": {},
     "output_type": "execute_result"
    }
   ],
   "source": [
    "### 面试题 4，数组中重复的数字\n",
    "# 在一个长度为N的数组里，所有数字都在0～n-1的范围内。数组中某些数字是重复的，但不知道有几个，也不知道有几次。\n",
    "# 请找出数组中一个重复的数字。\n",
    "# in: arr=[2,3,1,0,2,5,3]\n",
    "# out:2 or 3\n",
    "# 特殊要求：不能修改数组\n",
    "\n",
    "# 第一种解法，创建一个长度为N+1 的辅助数组，然后逐个将原数组数字复制，被复制的数字是M，则复制到下表为M的位置\n",
    "\n",
    "def FindDuplicate(array):\n",
    "    \"\"\"\n",
    "    input: an array\n",
    "    output: the first duplicate nb encountered, or -1 if none\n",
    "    \"\"\"\n",
    "    if len(array)==0:\n",
    "        return -1\n",
    "    for nb in array:    # 为什么这个loop要单独拿出来呢，因为在后面，如果数字过大，会出现index out range的问题\n",
    "        if (nb < 0) or (nb > len(array)-1):\n",
    "            return -1\n",
    "    temp_array = [None]*(len(array)+1)\n",
    "    for nb in array:\n",
    "        if temp_array[nb]==None: \n",
    "            temp_array[nb]= nb\n",
    "        else:\n",
    "            print(temp_array)\n",
    "            return nb\n",
    "    return -1\n",
    "# FindDuplicate(arr)\n",
    "\n",
    "# 第二种解法，不创建新的数组，但是计算时间会稍微长一些，二分查找\n",
    "# 以中间数开始，如果0-m中的数字多于m，也就是说，duplicate的数字在这当中\n",
    "\n",
    "def FindDuplicateV2(array):\n",
    "    \"\"\"\n",
    "    input: an array\n",
    "    output: the first duplicate nb encountered, or -1 if none\n",
    "    \"\"\"\n",
    "    if len(array)==0:\n",
    "        return -1\n",
    "    for nb in array:    # 为什么这个loop要单独拿出来呢，因为在后面，如果数字过大，会出现index out range的问题\n",
    "        if (nb < 0) or (nb > len(array)-1):\n",
    "            return -1\n",
    "        \n",
    "    start = 1\n",
    "    end = len(array)-1\n",
    "    while start <= end:\n",
    "        \n",
    "        mid = (end-start)//2\n",
    "        print(start, end, mid)\n",
    "        left=0  # better name 'left_count'\n",
    "        right=0\n",
    "        middle=0\n",
    "        for nb in array:\n",
    "            if nb < mid:\n",
    "                left +=1\n",
    "                if left > mid:\n",
    "                    print(\"in the left side\")\n",
    "                    end = mid\n",
    "            elif nb > mid:\n",
    "                right+=1\n",
    "                if right > mid +1:\n",
    "                    start = mid+1\n",
    "            elif nb==mid:\n",
    "                middle+=1\n",
    "                if middle ==2:\n",
    "                    print(\"right in the middle\")\n",
    "                    return mid\n",
    "        \n",
    "# arr=[1]\n",
    "arr=[2,3,2,4,3,2,6,7,1,4,5,8,2,3,5,4,9,10,3,5]\n",
    "# arr=[1,1,1,1,1,1,1]\n",
    "# arr=[]\n",
    "# arr=[1,2,3,4,5,6,23]   \n",
    "FindDuplicateV2(arr)\n",
    "\n",
    "\n",
    "# 两种方法都可以，要问面试官，具体的功能要求，以及性能要求（时间优先，还是空间优先？）"
   ]
  },
  {
   "cell_type": "code",
   "execution_count": 64,
   "metadata": {},
   "outputs": [
    {
     "name": "stdout",
     "output_type": "stream",
     "text": [
      "the location 1 0\n"
     ]
    },
    {
     "data": {
      "text/plain": [
       "True"
      ]
     },
     "execution_count": 64,
     "metadata": {},
     "output_type": "execute_result"
    }
   ],
   "source": [
    "# 面试题 4: 二维数组中的查找\n",
    "# 二维数组，每一行递增，每一列递增。\n",
    "# 输入一个这样的数组和一个整数，判断是否包含该整数\n",
    "\n",
    "# matrix= [\n",
    "#     [1,2,8,9],\n",
    "#     [2,4,9,12],\n",
    "#     [4,7,10,13],\n",
    "#     [6,8,11,15,32,35]\n",
    "#         ]\n",
    "matrix=[[1],[2],[3],[5],[7]]\n",
    "\n",
    "def FindInPartiallySortedMatrix(matrix, integer=7):\n",
    "    \"\"\"\n",
    "    input: a matrix, and an integer\n",
    "    output: a boolean, true if integer in the matrix, false otherwise\n",
    "    \"\"\"\n",
    "    found = False\n",
    "\n",
    " \n",
    "     # locate the startPoint\n",
    "    if len(matrix)>0 and len(matrix[0])>0:  # 首先！！做特例判断！！！先考虑特殊情况！！\n",
    "        row=0\n",
    "        column=len(matrix[0])-1\n",
    "        while row < len(matrix) and column >= 0:\n",
    "            startPoint = matrix[row][column]\n",
    "            if startPoint == integer:\n",
    "                print(f\"the location {row} {column}\")\n",
    "                return True\n",
    "            elif startPoint > integer:\n",
    "                column -=1\n",
    "            else:\n",
    "                row += 1\n",
    "                \n",
    "    return found\n",
    "\n",
    "FindInPartiallySortedMatrix(matrix, 2)"
   ]
  },
  {
   "cell_type": "code",
   "execution_count": 105,
   "metadata": {},
   "outputs": [
    {
     "name": "stdout",
     "output_type": "stream",
     "text": [
      "------\\------\n",
      "1\n",
      "------/-------\n",
      "------\\------\n",
      "1\n",
      "------/-------\n",
      "------\\------\n",
      "1\n",
      "------/-------\n",
      "------\\------\n",
      "1\n",
      "------/-------\n",
      "Print forward: 1 -> 2 -> 3 -> 5 -> 4\n",
      "1 -> 2 -> 3 -> 5 -> 4\n",
      "1 -> 2 -> 3 -> 5 -> 4\n",
      "Print reversely iteratively: 4, 5, 3, 2, 1, \n",
      "Print reversely recursively: 4, 5, 3, 2, 1, ------\\------\n",
      "1\n",
      "------/-------\n",
      "2\n",
      "3\n",
      "5\n",
      "4\n"
     ]
    }
   ],
   "source": [
    "## 链表部分\n",
    "#!/usr/bin/python\n",
    "# -*- coding: utf8 -*-\n",
    "\n",
    "from __future__ import print_function\n",
    "\n",
    "# 一句话，这是节点的定义;还不是整个链表的定义\n",
    "# 一个节点就是一个类，这个类有value & next,nothing more。\n",
    "# 在C++中，节点的定义是\n",
    "\n",
    "# struct ListNode\n",
    "# {\n",
    "#     int m_nValue;\n",
    "#     ListNode* m_pNext;\n",
    "# }\n",
    "\n",
    "\n",
    "class ListNode:# 这个定义不是链表整个，而是节点，每个节点是一个class，只有两个attribute，自身value和next\n",
    "    def __init__(self, value, next_node=None): #在__init__里面的东西就像函数的参数，是类必要的！\n",
    "        self.value = value\n",
    "        self.next = next_node\n",
    "\n",
    "\n",
    "def add_to_tail(head, value):\n",
    "    q = ListNode(value)  # 这里就是创建一个类，有一个value是传递进来的 \n",
    "\n",
    "    if head is None:\n",
    "        head = q\n",
    "    else:\n",
    "        p = head\n",
    "        while p.next is not None:\n",
    "            p = p.next\n",
    "        p.next = q\n",
    "\n",
    "    return head \n",
    "\n",
    "\n",
    "def print_list_reversely_iteratively(head):\n",
    "    p = head\n",
    "    stack = []                    # 一个空列表就是一个stack栈了！\n",
    "    # Push into stack\n",
    "    while p is not None:  \n",
    "        stack.append(p.value)\n",
    "        p = p.next\n",
    "    # Pop from stack\n",
    "    while stack:\n",
    "        elem = stack.pop()\n",
    "        print(elem, end=', ')\n",
    "    print('')\n",
    "\n",
    "    \n",
    "def print_list_reversely_recursively(head):\n",
    "    if head is None:\n",
    "        return\n",
    "    if head.next is not None:\n",
    "        print_list_reversely_recursively(head.next) # 递归的代码调用函数层次很深，可能栈溢出\n",
    "    print(head.value, end=', ')\n",
    "        \n",
    "\n",
    "def print_linked_list_forward(head):\n",
    "    if head is None:\n",
    "        print(\"This linked list is empty!\")\n",
    "        return\n",
    "    \n",
    "    p = head\n",
    "    while p is not None:\n",
    "        print(p.value, end='')\n",
    "        if p.next is not None:\n",
    "            print(' -> ', end='')\n",
    "        p = p.next\n",
    "    print('')\n",
    "\n",
    "            \n",
    "def unitest():\n",
    "    linked_list = None\n",
    "    linked_list = add_to_tail(linked_list, 1)\n",
    "    print(\"------\\------\")\n",
    "    print(linked_list.value)\n",
    "    print(\"------/-------\")\n",
    "    linked_list = add_to_tail(linked_list, 2)\n",
    "    print(\"------\\------\")\n",
    "    print(linked_list.value)\n",
    "    print(\"------/-------\")\n",
    "    linked_list = add_to_tail(linked_list, 3)\n",
    "    print(\"------\\------\")\n",
    "    print(linked_list.value)\n",
    "    print(\"------/-------\")\n",
    "    linked_list = add_to_tail(linked_list, 5)\n",
    "    print(\"------\\------\")\n",
    "    print(linked_list.value)\n",
    "    print(\"------/-------\")\n",
    "    linked_list = add_to_tail(linked_list, 4)\n",
    "    print(\"Print forward: \", end='')\n",
    "    print_linked_list_forward(linked_list)\n",
    "    print_linked_list_forward(linked_list)\n",
    "    print_linked_list_forward(linked_list)\n",
    "    print(\"Print reversely iteratively: \", end='') \n",
    "    print_list_reversely_iteratively(linked_list)\n",
    "    print(\"Print reversely recursively: \", end='') \n",
    "    print_list_reversely_recursively(linked_list)\n",
    "    \n",
    "    print(\"------\\------\")\n",
    "    print(linked_list.value)\n",
    "    print(\"------/-------\")\n",
    "    print(linked_list.next.value)\n",
    "    print(linked_list.next.next.value)\n",
    "    print(linked_list.next.next.next.value)\n",
    "    print(linked_list.next.next.next.next.value)\n",
    "\n",
    "\n",
    "if __name__ == '__main__':\n",
    "    unitest()"
   ]
  },
  {
   "cell_type": "code",
   "execution_count": null,
   "metadata": {},
   "outputs": [],
   "source": [
    "# 重建二叉树\n",
    "# 输入前序遍历序列 和 中序遍历 的结果（假设不包含重复的数字）\n",
    "preorder =[1,2,4,7,3,5,6,8]\n",
    "inorder = [4,7,2,1,5,3,8,6]\n",
    "\n",
    "\n",
    "class TreeNode:\n",
    "    def __init__(self, x):\n",
    "        self.val = x\n",
    "        self.left = None\n",
    "        self.right = None\n",
    "        \n",
    "# 解题思路是差不多的，树节点的类，然后找回每一个类的left, right, value三个值，互相指向；\n",
    "# 到了数据结构这一步，才知道C类语言的指针，是为什么存在的了\n",
    "\n",
    "\n",
    "class Solution:\n",
    "    # 返回构造的TreeNode根节点\n",
    "    def reConstructBinaryTree(self, pre, tin):\n",
    "        # write code here\n",
    "        if len(pre) == 0:\n",
    "            return None\n",
    "        if len(pre) == 1:\n",
    "            return TreeNode(pre[0])\n",
    "        else:\n",
    "            res = TreeNode(pre[0])\n",
    "            res.left = self.reConstructBinaryTree(pre[1: tin.index(pre[0]) + 1], tin[: tin.index(pre[0])])\n",
    "            res.right = self.reConstructBinaryTree(pre[tin.index(pre[0]) + 1: ], tin[tin.index(pre[0]) + 1: ])\n",
    "        return res\n",
    "\n",
    "    \n"
   ]
  },
  {
   "cell_type": "code",
   "execution_count": 132,
   "metadata": {},
   "outputs": [
    {
     "name": "stdout",
     "output_type": "stream",
     "text": [
      "[31]\n",
      "[31, 32]\n",
      "[31, 32, 33]\n",
      "[33, 32]\n",
      "[33]\n",
      "[]\n",
      "[38]\n",
      "[38, 39]\n",
      "[39]\n",
      "[]\n",
      "emty queque\n",
      "[{332: 232}]\n",
      "[]\n"
     ]
    }
   ],
   "source": [
    "# 2.5 栈和队列\n",
    "\n",
    "# 栈是常见的，操作系统给每个线程创建一个栈，用来储存函数调用时各个函数的参数、返回地址和临时变量。后进先出；\n",
    "# 队列的特点是先进先出；\n",
    "\n",
    "# 面试9: 用两个栈实现队列\n",
    "# 题目：用两个栈实现一个队列。实现appendTail 和 deleteHead。\n",
    "    \n",
    "class QueueByTwoStacks():\n",
    "    def __init__(self):\n",
    "        self.stack1=[]\n",
    "        self.stack2=[]\n",
    "    \n",
    "    def appendTail(self,value):\n",
    "        \n",
    "        self.stack1.append(value)\n",
    "        queue = self.stack1\n",
    "        print(queue)\n",
    "        return queue\n",
    "    \n",
    "    def deleteHead(self):\n",
    "        if len(self.stack1)==0 and len(self.stack2)==0:\n",
    "            print('emty queque')\n",
    "            return self.stack2\n",
    "        \n",
    "        while len(self.stack1)>0:\n",
    "            self.stack2.append(self.stack1.pop())\n",
    "        self.stack2.pop()\n",
    "        print(self.stack2)\n",
    "        return self.stack2\n",
    "\n",
    "def unitest():\n",
    "    q = QueueByTwoStacks()  # 初始化一个类一定要有括号\n",
    "    q.appendTail(31)\n",
    "    q.appendTail(32)\n",
    "    q.appendTail(33)\n",
    "    q.deleteHead()\n",
    "    q.deleteHead()\n",
    "    q.deleteHead()\n",
    "    q.appendTail(38)\n",
    "    q.appendTail(39)\n",
    "    q.deleteHead()\n",
    "    q.deleteHead()\n",
    "    q.deleteHead()\n",
    "    q.appendTail({332:232})\n",
    "    q.deleteHead()\n",
    "    \n",
    "    \n",
    "if __name__ == '__main__':\n",
    "    unitest()"
   ]
  },
  {
   "cell_type": "code",
   "execution_count": 191,
   "metadata": {},
   "outputs": [
    {
     "name": "stdout",
     "output_type": "stream",
     "text": [
      "------------\n",
      "0 4 2\n",
      "trigger find minimun 0 4\n"
     ]
    },
    {
     "data": {
      "text/plain": [
       "0"
      ]
     },
     "execution_count": 191,
     "metadata": {},
     "output_type": "execute_result"
    }
   ],
   "source": [
    "## 2.4. 算法和数据操作\n",
    "### 2.4.1. 递归和循环\n",
    "#### 题目：青蛙跳台阶。青蛙一次可以跳一次台阶，也可以跳两级台阶。问跳上N级台阶总共有多少种跳法。\n",
    "\n",
    "#### 解题思路：当N》2， 第一次跳如果是跳一级，剩下的方法就是N-1；第一次如果跳两级，剩下N-2。\n",
    "#### f(n)=f(n-1)+f(n-2)\n",
    "\n",
    "### 做测试的三个点：\n",
    "### 功能测试，基本款；\n",
    "### 边界值测试，特殊值测试；\n",
    "### 性能测试，特别大的数值测试；\n",
    "\n",
    "def fibonacci(n): \n",
    "    a = 0\n",
    "    b = 1\n",
    "    if n < 0: \n",
    "        print(\"Incorrect input\") \n",
    "    elif n == 0: \n",
    "        return a \n",
    "    elif n == 1: \n",
    "        return b \n",
    "    else: \n",
    "        for i in range(2,n): \n",
    "            c = a + b \n",
    "            a = b \n",
    "            b = c \n",
    "        return b \n",
    "\n",
    "# print(fibonacci(-2)) \n",
    "\n",
    "## 2.4.2  查找和排序\n",
    "\n",
    "# 面试题11\n",
    "# 旋转数组中的最小元素\n",
    "\n",
    "\n",
    "\n",
    "def findMinimunInRotatedSortedList(swap):\n",
    "    if len(swap)==0:\n",
    "        print(\"List is empty\")\n",
    "        return -1\n",
    "    if len(swap)==1:\n",
    "        return swap[0]\n",
    "    if len(swap)==2:\n",
    "        if swap[0]>=swap[1]:\n",
    "            return 0\n",
    "        else:\n",
    "            return 1    \n",
    "    start=0\n",
    "    end=len(swap)-1\n",
    "    while start <=end:\n",
    "        if start==end:\n",
    "            return start\n",
    "        middle = (start+end)//2\n",
    "        print(start, end,middle)\n",
    "        if (swap[middle]<swap[middle-1]) and (swap[middle]<swap[middle+1]):\n",
    "            return middle\n",
    "        elif swap[middle] <= swap[end]:\n",
    "            end = middle-1\n",
    "        elif swap[middle] >= swap[start]:  # 等号不能少\n",
    "            start = middle+1\n",
    "    return -1\n",
    "\n",
    "def findMinimunInRotatedSortedListV2(swap): # 第二版充分利用排序数组的特性，即左边数字大于右边数字，如果不大于，那就是最小了\n",
    "    if len(swap)==0:\n",
    "        print(\"List is empty\")\n",
    "        return -1\n",
    "    if len(swap)==1:\n",
    "        return swap[0]\n",
    "    if len(swap)==2:\n",
    "        if swap[0]>=swap[1]:\n",
    "            return 0\n",
    "        else:\n",
    "            return 1\n",
    "\n",
    "    start=0\n",
    "    end=len(swap)-1\n",
    "    middle = start # 以防这个旋转数列回到最初样式\n",
    "    \n",
    "    while swap[start]>=swap[end]:\n",
    "        if (end-start) == 1:\n",
    "            return end\n",
    "        middle=(start+end)//2\n",
    "        print(start, end, middle)\n",
    "        if swap[middle]>=swap[start]:\n",
    "            start = middle\n",
    "        elif swap[middle] <=swap[end]:\n",
    "            end= middle\n",
    "\n",
    "    return swap[middle]\n",
    "        \n",
    "# swap=[1,3]\n",
    "# swap=[0,0]\n",
    "# swap= [3,4,5,7,8,9,0,1,2]\n",
    "# swap=[4,35,1]\n",
    "# swap=[46,493,44]\n",
    "# swap=[23,45,67,0]\n",
    "# swap =[1,0,1,1,1,]\n",
    "swap=[1,1,1,0,1]\n",
    "\n",
    "# print(findMinimunInRotatedSortedListV2(swap))\n",
    "\n",
    "print('------------')\n",
    "\n",
    "# print(findMinimunInRotatedSortedList(swap))\n",
    "\n",
    "# 因为有以下这样的特殊例子存在，我们前面的两个版本都不够用\n",
    "# swap =[1,0,1,1,1,]\n",
    "# swap=[1,1,1,0,1]\n",
    "\n",
    "def findMinimunInRotatedSortedListV3(swap):\n",
    "    length= len(swap)\n",
    "    if length ==0:\n",
    "        print(\"List is empty\")\n",
    "        return -1\n",
    "    if length ==1:\n",
    "        return swap[0]\n",
    "    if length ==2:\n",
    "        if swap[0]>=swap[1]:\n",
    "            return 0\n",
    "        else:\n",
    "            return 1\n",
    "    start=0\n",
    "    end= length-1\n",
    "    middle = start\n",
    "    while swap[start]>=swap[end]:\n",
    "        if (end-start) == 1:\n",
    "            return end\n",
    "        middle=(start+end)//2\n",
    "        print(start, end, middle)\n",
    "        if (swap[start]==swap[end]) and (swap[middle]==swap[start]):\n",
    "            print(\"trigger find minimun\")\n",
    "            return FindMinimumInOrder(swap, start, end)\n",
    "        \n",
    "        if swap[middle]>=swap[start]:\n",
    "            start = middle\n",
    "        elif swap[middle] <=swap[end]:\n",
    "            end= middle\n",
    "\n",
    "    return swap[middle]\n",
    "\n",
    "def FindMinimumInOrder(swap, start, end):\n",
    "    minimun = swap[start]\n",
    "    for nb in swap[start+1:end]:\n",
    "        if nb < minimun:\n",
    "            minimun=nb\n",
    "    return minimun\n",
    "\n",
    "\n",
    "# swap =[1,0,1,1,1,]\n",
    "swap=[1,1,1,0,1]\n",
    "findMinimunInRotatedSortedListV3(swap)  # 要注意输出的统一，是INDEX还是VALUE\n"
   ]
  },
  {
   "cell_type": "code",
   "execution_count": 262,
   "metadata": {},
   "outputs": [
    {
     "data": {
      "text/plain": [
       "[]"
      ]
     },
     "execution_count": 262,
     "metadata": {},
     "output_type": "execute_result"
    }
   ],
   "source": [
    "# 插入sorting algorithm from mycodeschool\n",
    "# sorting过后的list更方便查找\n",
    "# classification:\n",
    "#     1) Time complexity\n",
    "#     2) Space complexity or Memory Usage\n",
    "#     3) Stability\n",
    "#     4) Internal sort vs External sort\n",
    "    \n",
    "# selection sort             n的平方次运算时间\n",
    "\n",
    "#-----------------------------------吊！ range(0,2)=0,1 !!    以及range总是从0，开始，因此range（0，2）= range（2）---------------------------\n",
    "def SelectionSort(array):\n",
    "    if len(array)==0 or len(array)==1:\n",
    "        return array\n",
    "        \n",
    "    for i in range(0, len(array)):\n",
    "        iMin = i\n",
    "        for j in range(i+1, len(array)):\n",
    "            if array[j]<array[iMin]:\n",
    "                iMin=j    \n",
    "        temp=array[i]\n",
    "        array[i]=array[iMin]\n",
    "        array[iMin]=temp\n",
    "    return array\n",
    "\n",
    "\n",
    "    \n",
    "def bubbleSort(arr):   # 冒泡算法，每一次都能将最大的数值放到最后面去，所以，两个指针，是end指针不断往前移；\n",
    "    n = len(arr)\n",
    " \n",
    "\n",
    "    \n",
    "    for i in range(n): # 这个loop是说明要冒泡多少次，有 n 个元素就有　n-1 次\n",
    " \n",
    "        # Last i elements are already in place\n",
    "        flag =0\n",
    "        for j in range(0, n-i-1): # 这个loop限定的是冒泡排序的范围 n-1 因为怕list out of range, i是将end指针推前\n",
    " \n",
    "            # traverse the array from 0 to n-i-1\n",
    "            # Swap if the element found is greater\n",
    "            # than the next element\n",
    "            if arr[j] > arr[j+1] :\n",
    "                arr[j], arr[j+1] = arr[j+1], arr[j]\n",
    "                flag=1\n",
    "        if flag==0:\n",
    "            print(\"done in advance\")\n",
    "            return arr\n",
    "    return arr\n",
    "    \n",
    "\n",
    "# insertion sort ------- 运行时间 = N的平方 --------\n",
    "\n",
    "def insertionSort(array):\n",
    "    # 三个月后发现这个做法是错的，我操\n",
    "    if len(array)==0 or len(array)==1:\n",
    "        return array\n",
    "    for i in range(1, len(array)):\n",
    "        value = array[i]          # take out the value for preparation\n",
    "        position = i             # know the pointer position\n",
    "        while (position>0 and array[position-1]>value):   #forloop + if condition: for every item before, if greater\n",
    "            array[position] = array[position-1]       # the greater 往后退一步\n",
    "            position-=1                              # 指针往前一格\n",
    "        array[position]=value                       # 最终，当条件不再符合，loop到了尽头或者是已经最小，在指针停下的地方赋值\n",
    "    return array\n",
    "\n",
    "\n",
    "\n",
    "# merge sort ------之前的都是N平方 ， 现在的是N*logN------------\n",
    "\n",
    "def mergeSort(array):\n",
    "    \n",
    "    \n",
    "# array=[2,7,4,1,5,3]\n",
    "# array=[9]\n",
    "# array=[1232,32]\n",
    "# array=[2,1]\n",
    "# array = [32,234,123,25234,536]\n",
    "# array=[]\n",
    "# SelectionSort(array)\n",
    "# bubbleSort(array)\n",
    "insertionSort(array)"
   ]
  },
  {
   "cell_type": "code",
   "execution_count": 283,
   "metadata": {},
   "outputs": [
    {
     "name": "stdout",
     "output_type": "stream",
     "text": [
      "----entrance of function----- [12, 11] 0 1\n",
      "----entrance of function----- [12, 11] 0 0\n",
      "----call 1-------- [12, 11] 0 0\n",
      "----entrance of function----- [12, 11] 1 1\n",
      "----call 2-------- [12, 11] 1 1\n",
      "call merge [12, 11] 0 0 1\n",
      "----call 3-------- [11, 12] 0 0 1\n"
     ]
    }
   ],
   "source": [
    "#### Python program for implementation of MergeSort \n",
    "\n",
    "# Merges two subarrays of arr[]. \n",
    "# First subarray is arr[l..m] \n",
    "# Second subarray is arr[m+1..r] \n",
    "def merge(arr, l, m, r): \n",
    "\tprint(\"call merge\",arr, l, m,r)\n",
    "\tn1 = m - l + 1\n",
    "\tn2 = r- m \n",
    "\n",
    "\t# create temp arrays \n",
    "\tL = [0] * (n1) \n",
    "\tR = [0] * (n2) \n",
    "\n",
    "\t# Copy data to temp arrays L[] and R[] \n",
    "\tfor i in range(0 , n1):   # 这一步copy data为什么这么古怪\n",
    "\t\tL[i] = arr[l + i] \n",
    "\n",
    "\tfor j in range(0 , n2): \n",
    "\t\tR[j] = arr[m + 1 + j] \n",
    "\n",
    "\t# Merge the temp arrays back into arr[l..r] \n",
    "\ti = 0\t # Initial index of first subarray \n",
    "\tj = 0\t # Initial index of second subarray \n",
    "\tk = l\t # Initial index of merged subarray \n",
    "\n",
    "\twhile i < n1 and j < n2 : \n",
    "\t\tif L[i] <= R[j]: \n",
    "\t\t\tarr[k] = L[i] \n",
    "\t\t\ti += 1\n",
    "\t\telse: \n",
    "\t\t\tarr[k] = R[j] \n",
    "\t\t\tj += 1\n",
    "\t\tk += 1\n",
    "\n",
    "\t# Copy the remaining elements of L[], if there \n",
    "\t# are any \n",
    "\twhile i < n1: \n",
    "\t\tarr[k] = L[i] \n",
    "\t\ti += 1\n",
    "\t\tk += 1\n",
    "\n",
    "\t# Copy the remaining elements of R[], if there \n",
    "\t# are any \n",
    "\twhile j < n2: \n",
    "\t\tarr[k] = R[j] \n",
    "\t\tj += 1\n",
    "\t\tk += 1\n",
    "\n",
    "\n",
    "\n",
    "def mergeSort(arr,l,r):  # 这个递归理解的难点，及其特殊在于多次传递，反复进出；\n",
    "    \"\"\" l is for left index and r is right index of the sub-array of arr to be sorted \"\"\"\n",
    "    print(\"----entrance of function-----\",arr,l,r)\n",
    "    if l < r: \n",
    "        m = (l+(r-1))//2 # Same as (l+r)//2, but avoids overflow for large l and h \n",
    "        # Sort first and second halves \n",
    "        mergeSort(arr, l, m)\n",
    "        print(\"----call 1--------\",arr,l,m)\n",
    "        mergeSort(arr, m+1, r)\n",
    "        print(\"----call 2--------\",arr,m+1,r)\n",
    "        merge(arr, l, m, r)\n",
    "        print('----call 3--------',arr,l,m,r)\n",
    "\n",
    "\n",
    "arr = [12, 11] \n",
    "n = len(arr) \n",
    "mergeSort(arr,0,n-1) \n"
   ]
  },
  {
   "cell_type": "code",
   "execution_count": 309,
   "metadata": {},
   "outputs": [
    {
     "name": "stdout",
     "output_type": "stream",
     "text": [
      "1\n",
      "0\n",
      "None\n",
      "None\n",
      "[4, 5, 7, 3]\n",
      "2\n",
      "None\n",
      "None\n",
      "[4, 5, 3, 7]\n",
      "[3, 4, 5, 7]\n"
     ]
    }
   ],
   "source": [
    "def merge(array,l, r, m): # 这一步，是假设输入的两边已经排列好了l=【1，2，3，5】和r=【2，4，7】等着排，原来的array=l+r\n",
    "    # 首先，创建两个空的array来承接这两个array\n",
    "    left_temp_length = (m-l)+1\n",
    "    right_temp_length = r-m\n",
    "    left_temp_array = [None]*left_temp_length\n",
    "    right_temp_array = [None]*right_temp_length\n",
    "    \n",
    "    for i in range(0, left_temp_length):\n",
    "        left_temp_array[i]=array[l+i]\n",
    "        \n",
    "    for i in range(0, right_temp_length):\n",
    "        right_temp_array[i]= array[m+1+i]\n",
    "        \n",
    "    left_array_pointer=0\n",
    "    right_array_pointer=0\n",
    "    array_pointer = l\n",
    "    \n",
    "    while left_array_pointer < left_temp_length and right_array_pointer < right_temp_length:\n",
    "        if left_temp_array[left_array_pointer] <= right_temp_array[right_array_pointer]:\n",
    "            array[array_pointer] = left_temp_array[left_array_pointer]\n",
    "            left_array_pointer+=1\n",
    "        else:\n",
    "            array[array_pointer] = right_temp_array[right_array_pointer]\n",
    "            right_array_pointer+=1\n",
    "            \n",
    "        array_pointer+=1\n",
    "            \n",
    "    while left_array_pointer < left_temp_length:\n",
    "        array[array_pointer] = left_temp_array[left_array_pointer]\n",
    "        left_array_pointer+=1\n",
    "        array_pointer+=1\n",
    "        \n",
    "    while right_array_pointer < right_temp_length:\n",
    "        array[array_pointer] = right_temp_array[right_array_pointer]\n",
    "        right_array_pointer+=1\n",
    "        array_pointer+=1\n",
    "        \n",
    "    return array\n",
    "\n",
    "merge([1,2,3,5,1,3,4,24,34,78],0,6,3)\n",
    "\n",
    "\n",
    "def splitarray(array, l, r):\n",
    "    \"\"\" \n",
    "    input: an array, left index, right index\n",
    "    output: a sorted array\n",
    "    \"\"\"\n",
    "    if l < r:\n",
    "        mid = (l+r)//2\n",
    "        print(mid)\n",
    "        left = splitarray(array, l, mid)  # output an array\n",
    "        print(left)\n",
    "        right = splitarray(array, mid+1, r) # output an array\n",
    "        print(right)\n",
    "        merge(array,l,r,mid)\n",
    "        return array\n",
    "\n",
    "        \n",
    "print(splitarray([4,5,7,3],0,3))\n",
    "    "
   ]
  },
  {
   "cell_type": "code",
   "execution_count": 152,
   "metadata": {},
   "outputs": [
    {
     "name": "stdout",
     "output_type": "stream",
     "text": [
      "[0, 1]\n"
     ]
    }
   ],
   "source": [
    "random.randrange(1,2)\n",
    "# In, Python, the interval begins (includes the left) stops before right (doesnot include)\n",
    "print([i for i in range(0,2)])\n",
    "# that's it, same for randrange => \"random range\""
   ]
  },
  {
   "cell_type": "code",
   "execution_count": 176,
   "metadata": {},
   "outputs": [
    {
     "name": "stdout",
     "output_type": "stream",
     "text": [
      "the random index=== 2\n",
      "tuple of (i,pIndex) 0 1\n",
      "tuple of (i,pIndex) 1 1\n",
      "tuple of (i,pIndex) 2 2\n",
      "the new array--->> [7, 9, 18, 34]\n",
      "the random index=== 0\n",
      "tuple of (i,pIndex) 0 0\n",
      "the new array--->> [7, 9, 18, 34]\n"
     ]
    },
    {
     "data": {
      "text/plain": [
       "[7, 9, 18, 34]"
      ]
     },
     "execution_count": 176,
     "metadata": {},
     "output_type": "execute_result"
    }
   ],
   "source": [
    "## quick sort\n",
    "import random\n",
    "random.randrange(0, 10)\n",
    "def Partition(array, start, end):   # the pivot is better chosen in an random manner\n",
    "    \"\"\"\n",
    "    input: an array, start index, end index\n",
    "    output: a partially sorted array, with the last element as the middle value\n",
    "    \n",
    "    也就是说，选定了一个数字，将小于它的放到左边，大于它的放到右边\n",
    "    \"\"\"\n",
    "    if len(array)==0:\n",
    "        return array\n",
    "    \n",
    "    pickRandomIndex=random.randrange(start, end) # pick a random index within the range of start, end\n",
    "    print('the random index===', pickRandomIndex)\n",
    "    \n",
    "    # the last element goes to the random index\n",
    "    # the random index goes to the last\n",
    "    array[pickRandomIndex],array[end] = array[end],array[pickRandomIndex]  # pick random to avoid the worst case\n",
    "    \n",
    "    pivot = array[end]\n",
    "    pIndex = start\n",
    "    for i in range(start, end): # 其实也是双指针原理，一个自动递增，一个若符合条件则递增!!\n",
    "        # 要非常小心range的问题\n",
    "        \n",
    "        if array[i]<= pivot:\n",
    "            array[i], array[pIndex]= array[pIndex], array[i]\n",
    "            pIndex += 1\n",
    "        print('tuple of (i,pIndex)',i,pIndex)\n",
    "    array[pIndex],array[end]=array[end],array[pIndex]\n",
    "    print(\"the new array--->>\", array)\n",
    "    return pIndex\n",
    "\n",
    "\n",
    "def quickSort(array, start, end):\n",
    "    \"\"\"\n",
    "    input: an array with start and end index\n",
    "    output: a sorted array\n",
    "    \"\"\"\n",
    "    if start< end:\n",
    "        partitionIndex= Partition(array, start, end)\n",
    "        quickSort(array, start, partitionIndex-1) # partitionIndex remains at its original index, no need to change\n",
    "        quickSort(array, partitionIndex+1, end)  # partitionIndex remains at its original index, no need to change\n",
    "    return array\n",
    "\n",
    "# array=[1,5,7,3,234,2,18,223,4]\n",
    "# Partition(arrayi, 0, 4)\n",
    "aa=[7,34,18,9] # 对于这个例子，for i in range(start, end);for i in range(start, end-1)是不一样的排序\n",
    "# Partition(aa, 0,3)\n",
    "quickSort(aa,0,3)\n",
    "\n",
    "\n",
    "# array=[12,32,11,-34]\n",
    "#array=[34,2,3]\n",
    "# quickSort(array,0,8)\n",
    "\n",
    "# Merge sort & quick Sort are divide and conquer algorithm\n",
    "# divide and conquer algo is a desing paradigm"
   ]
  },
  {
   "cell_type": "code",
   "execution_count": null,
   "metadata": {},
   "outputs": [],
   "source": [
    "# "
   ]
  },
  {
   "cell_type": "code",
   "execution_count": 68,
   "metadata": {},
   "outputs": [
    {
     "name": "stdout",
     "output_type": "stream",
     "text": [
      "2\n",
      "0\n",
      "1\n"
     ]
    },
    {
     "data": {
      "text/plain": [
       "1"
      ]
     },
     "execution_count": 68,
     "metadata": {},
     "output_type": "execute_result"
    }
   ],
   "source": [
    "# 在继续剑指offer之前，将mycodeschool的面试问题和data structure课程看完。\n",
    "\n",
    "# interview questions\n",
    "\n",
    "# Binary search \n",
    "# 1, Binary Search \n",
    "# find if an item exists in an sorted array\n",
    "\n",
    "def findItemInSortedArrayWrongOne(array,n,start, end):  # 这个是典型的错误，将传入的值在函数内再次重新计算\n",
    "    start =0\n",
    "    end=len(array)-1\n",
    "    mid = start + (end-start)//2\n",
    "    print(mid)\n",
    "    if array[mid]== n:\n",
    "        return mid\n",
    "    elif array[mid]< n:\n",
    "        start = mid+1\n",
    "        print('start====',start)\n",
    "        findItemInSortedArray(array,n,start,end)\n",
    "    else:\n",
    "        end=mid-1\n",
    "        findItemInSortedArray(array,n,start, end)\n",
    "    return -1\n",
    "\n",
    "array=[3,33,323,4345,113122]\n",
    "\n",
    "def findItemInSortedArray(array, n, start, end):\n",
    "#     if start > end:\n",
    "#         print('not found')\n",
    "#         return -1\n",
    "#     mid = start + (end-start)//2\n",
    "#     if Array[mid]==x:\n",
    "#         print(mid)\n",
    "#         return mid\n",
    "#     elif Array[mid]>x:\n",
    "#         binarySearchV2(Array,start,mid-1,x)\n",
    "#     else:\n",
    "#         binarySearchV2(Array,mid+1,end,x)        \n",
    "    if len(array)==0:\n",
    "        return -1\n",
    "    if start==end:\n",
    "        if array[start]==n:\n",
    "            return start\n",
    "        else:\n",
    "            return -1\n",
    "    elif start<end:\n",
    "        mid = start + (end-start)//2\n",
    "        print(mid)\n",
    "        if array[mid]== n:\n",
    "            return mid\n",
    "        elif array[mid]< n:\n",
    "            start = mid+1\n",
    "            print('start====',start,end)\n",
    "            return findItemInSortedArray(array,n,start,end)\n",
    "        else:\n",
    "            end=mid-1\n",
    "            return findItemInSortedArray(array,n,start, end)\n",
    "        return -1\n",
    "\n",
    "# findItemInSortedArray(array,33,0,4)\n",
    "        \n",
    "\n",
    "def findItemInSortedArrayWithoutRecursion(array, n ,start, end):\n",
    "    if len(array)==0:\n",
    "        return -1\n",
    "    while start <= end:\n",
    "        mid = start + (end-start)//2\n",
    "        if array[mid]==n:\n",
    "            return mid\n",
    "        elif array[mid]>n:\n",
    "            end = mid-1\n",
    "        else:\n",
    "            start = mid +1\n",
    "            \n",
    "    return -1\n",
    "            \n",
    "array=[33,33,323,4345,113122]\n",
    "# findItemInSortedArrayWithoutRecursion(array,33, 0, 4)\n",
    "\n",
    "\n",
    "\n",
    "# find count of an element in a sorted list = (last occurence - first occurence) + 1\n",
    "def binarySearchFirstOrLastOccurence(Array, start, end, x, first=True):\n",
    "    result = -1\n",
    "    while (start <= end):\n",
    "#         mid = (end+start)//2\n",
    "        mid = start + (end-start)//2 # 这个写法更好，因为其避免了end+start过大的问题\n",
    "        print(mid)\n",
    "        if Array[mid] == x:\n",
    "#             return mid\n",
    "            result = mid\n",
    "            if first:\n",
    "                end = mid-1\n",
    "            else:\n",
    "                start = mid + 1\n",
    "        elif Array[mid]>x:\n",
    "            end= mid-1\n",
    "        else:\n",
    "            start = mid+1\n",
    "    return result\n",
    "\n",
    "binarySearchFirstOrLastOccurence(array,0,4,33,False)\n",
    "\n",
    "\n",
    "\n",
    "# 二叉搜索树、有序二叉树（ordered binary tree）或排序二元樹（sorted binary tree），是指一棵空树或者具有下列性质的二叉树：\n",
    "\n",
    "# 若任意节点的左子树不空，则左子树上所有节点的值均小于它的根节点的值；\n",
    "# 若任意节点的右子树不空，则右子树上所有节点的值均大于或等于它的根节点的值；\n",
    "# 任意节点的左、右子树也分别为二叉查找树；\n",
    "\n",
    "# Python解法如下，利用BST的中序遍历是升序数组这一特性。对二叉树进行中序遍历即可。\n",
    "\n",
    "\n",
    "\n",
    "# data structure\n",
    "\n",
    "\n",
    "\n",
    "# 2.4.3 回溯法\n"
   ]
  },
  {
   "cell_type": "markdown",
   "metadata": {},
   "source": [
    "## KMP string matching"
   ]
  },
  {
   "cell_type": "code",
   "execution_count": 25,
   "metadata": {},
   "outputs": [
    {
     "data": {
      "text/plain": [
       "[0, 0, 0, 0, 1, 2, 1]"
      ]
     },
     "execution_count": 25,
     "metadata": {},
     "output_type": "execute_result"
    }
   ],
   "source": [
    "def compute_kmp_fial(P):\n",
    "    \"\"\"Utility that computes and returns KMP 'fail' list \"\"\"\n",
    "    m = len(P)\n",
    "    fail = [0]*m\n",
    "    j=1\n",
    "    k=0\n",
    "    while j<m:\n",
    "        if P[j]==P[k]:\n",
    "            fail[j]=k+1\n",
    "            j+=1\n",
    "            k+=1\n",
    "        elif k>0:\n",
    "            k=fail[k-1]\n",
    "        else:\n",
    "            j+=1\n",
    "    return fail\n",
    "\n",
    "\n",
    "compute_kmp_fial('abccaba')\n",
    "# [0, 0, 1, 2, 0] "
   ]
  },
  {
   "cell_type": "code",
   "execution_count": 29,
   "metadata": {},
   "outputs": [
    {
     "name": "stdout",
     "output_type": "stream",
     "text": [
      "[0, 0]\n",
      "j move on\n",
      "j move on\n",
      "j move on\n",
      "j move on\n",
      "j move on\n",
      "j move on\n",
      "j move on\n",
      "j move on\n",
      "find one equal\n",
      "return back\n",
      "1\n",
      "0\n",
      "j move on\n",
      "find one equal\n",
      "find one equal\n"
     ]
    },
    {
     "data": {
      "text/plain": [
       "10"
      ]
     },
     "execution_count": 29,
     "metadata": {},
     "output_type": "execute_result"
    }
   ],
   "source": [
    "def find_kmp(T,P):\n",
    "    \"\"\" Return the lowest index of T at which substring P begins(or else -1) \"\"\"\n",
    "    n, m = len(T), len(P)\n",
    "    if m==0:return 0\n",
    "    fail = compute_kmp_fial(P)\n",
    "    print(fail)\n",
    "    j=0\n",
    "    k=0\n",
    "    while j<n:\n",
    "        if T[j]==P[k]:\n",
    "            print(\"find one equal\")\n",
    "            if k==m-1:\n",
    "                return j-m+1\n",
    "            j+=1\n",
    "            k+=1\n",
    "        elif k > 0:    # K > 0, 意味着pattern的指针已经移动过一次了，已经在主串中识别过了一次自身的一部分了；\n",
    "            print(\"return back\")\n",
    "            print(k)\n",
    "            k=fail[k-1]  # this is the tricky point, index -1\n",
    "            print(k)\n",
    "        else:  # no match \n",
    "            print('j move on')\n",
    "            j+=1\n",
    "    return -1\n",
    "\n",
    "find_kmp('aaassdfwerewabcde','ew')  # 对于这个情况， KMP还有一点小缺陷，详情可见《大话数据结构》"
   ]
  },
  {
   "cell_type": "code",
   "execution_count": 59,
   "metadata": {},
   "outputs": [
    {
     "data": {
      "text/plain": [
       "[0, 0, 0, 1, 0, 1, 2]"
      ]
     },
     "execution_count": 59,
     "metadata": {},
     "output_type": "execute_result"
    }
   ],
   "source": [
    "## 自己重写KPM算法\n",
    "\n",
    "# 一般这一类find index的算法，都是两个pointer，一个在pattern上来回走，一个在string/list上一直走，每次都做判断、读写\n",
    "\n",
    "\n",
    "def pattern_list(pattern):\n",
    "    length = len(pattern)\n",
    "    result_list = [0]*length # create the basic list\n",
    "    long_pointer = 1\n",
    "    short_pointer = 0\n",
    "    while long_pointer < length:\n",
    "        if pattern[long_pointer] == pattern[short_pointer]: # we find same character\n",
    "            result_list[long_pointer]=short_pointer+1\n",
    "            long_pointer +=1\n",
    "            short_pointer +=1\n",
    "        elif short_pointer > 0: # matching stops after one/several matching\n",
    "            short_pointer =0 \n",
    "            long_pointer +=1\n",
    "        else:                # no matching since last time\n",
    "            long_pointer +=1\n",
    "    return result_list\n",
    "\n",
    "\n",
    "pattern_list('dfededf')\n",
    "\n",
    "# def find_pattern_begin_index(pattern, string):\n",
    "#     string_len = len(string)\n",
    "#     pattern_len= len(pattern)\n",
    "#     if pattern_len==0:\n",
    "#         return -1\n",
    "#     pattern_fail_list = pattern_list(pattern)\n",
    "#     print(pattern_fail_list)\n",
    "#     string_pointer = 0\n",
    "#     pattern_pointer = 0\n",
    "#     while string_pointer < string_len:\n",
    "#         print(string_pointer, pattern_pointer)\n",
    "#         if string[string_pointer] == pattern[pattern_pointer]:\n",
    "#             print(\"find one match\")\n",
    "            \n",
    "#             string_pointer+=1\n",
    "#             pattern_pointer+=1\n",
    "#             if pattern_pointer==pattern_len:\n",
    "#                 return string_pointer - pattern_pointer +1\n",
    "            \n",
    "            \n",
    "#         elif pattern_pointer > 0:\n",
    "#             pattern_pointer = pattern_fail_list[pattern_pointer]\n",
    "#             print('minius 1',pattern_pointer)\n",
    "#             string_pointer +=1\n",
    "            \n",
    "#         else:\n",
    "#             string_pointer +=1\n",
    "            \n",
    "#     return -1\n",
    "        \n",
    "            \n",
    "# find_pattern_begin_index('abb','abceaddabbceab')"
   ]
  },
  {
   "cell_type": "code",
   "execution_count": 63,
   "metadata": {},
   "outputs": [],
   "source": [
    "# Definition for singly-linked list.\n",
    "class ListNode:\n",
    "    def __init__(self, x):\n",
    "        self.val = x\n",
    "        self.next = None\n",
    "\n",
    "# Definition for a binary tree node.\n",
    "class TreeNode:\n",
    "    def __init__(stelf, x):\n",
    "        self.val = x\n",
    "        self.left = None\n",
    "        self.right = None\n",
    "\n",
    "class Solution:\n",
    "\n",
    "    def findMiddle(self, head):\n",
    "\n",
    "        # The pointer used to disconnect the left half from the mid node.\n",
    "        prevPtr = None\n",
    "        slowPtr = head\n",
    "        fastPtr = head\n",
    "\n",
    "        # Iterate until fastPr doesn't reach the end of the linked list.\n",
    "        while fastPtr and fastPtr.next:\n",
    "            prevPtr = slowPtr\n",
    "            slowPtr = slowPtr.next\n",
    "            fastPtr = fastPtr.next.next\n",
    "\n",
    "        # Handling the case when slowPtr was equal to head.\n",
    "        if prevPtr:\n",
    "            prevPtr.next = None\n",
    "\n",
    "        return slowPtr\n",
    "\n",
    "\n",
    "    def sortedListToBST(self, head):\n",
    "        \"\"\"\n",
    "        :type head: ListNode\n",
    "        :rtype: TreeNode\n",
    "        \"\"\"\n",
    "\n",
    "        # If the head doesn't exist, then the linked list is empty\n",
    "        if not head:\n",
    "            return None\n",
    "\n",
    "        # Find the middle element for the list.\n",
    "        mid = self.findMiddle(head)\n",
    "\n",
    "        # The mid becomes the root of the BST.\n",
    "        node = TreeNode(mid.val)\n",
    "\n",
    "        # Base case when there is just one element in the linked list\n",
    "        if head == mid:\n",
    "            return node\n",
    "\n",
    "        # Recursively form balanced BSTs using the left and right halves of the original list.\n",
    "        node.left = self.sortedListToBST(head)\n",
    "        node.right = self.sortedListToBST(mid.next)\n",
    "        return node"
   ]
  },
  {
   "cell_type": "code",
   "execution_count": 64,
   "metadata": {},
   "outputs": [
    {
     "ename": "AttributeError",
     "evalue": "'list' object has no attribute 'next'",
     "output_type": "error",
     "traceback": [
      "\u001b[0;31m---------------------------------------------------------------------------\u001b[0m",
      "\u001b[0;31mAttributeError\u001b[0m                            Traceback (most recent call last)",
      "\u001b[0;32m<ipython-input-64-c08e26c0b22a>\u001b[0m in \u001b[0;36m<module>\u001b[0;34m\u001b[0m\n\u001b[1;32m      1\u001b[0m \u001b[0mx\u001b[0m\u001b[0;34m=\u001b[0m\u001b[0mSolution\u001b[0m\u001b[0;34m(\u001b[0m\u001b[0;34m)\u001b[0m\u001b[0;34m\u001b[0m\u001b[0;34m\u001b[0m\u001b[0m\n\u001b[0;32m----> 2\u001b[0;31m \u001b[0mx\u001b[0m\u001b[0;34m.\u001b[0m\u001b[0msortedListToBST\u001b[0m\u001b[0;34m(\u001b[0m\u001b[0;34m[\u001b[0m\u001b[0;36m1\u001b[0m\u001b[0;34m,\u001b[0m\u001b[0;36m2\u001b[0m\u001b[0;34m,\u001b[0m\u001b[0;36m3\u001b[0m\u001b[0;34m,\u001b[0m\u001b[0;36m4\u001b[0m\u001b[0;34m,\u001b[0m\u001b[0;36m5\u001b[0m\u001b[0;34m,\u001b[0m\u001b[0;36m6\u001b[0m\u001b[0;34m]\u001b[0m\u001b[0;34m)\u001b[0m\u001b[0;34m\u001b[0m\u001b[0;34m\u001b[0m\u001b[0m\n\u001b[0m",
      "\u001b[0;32m<ipython-input-63-3a61d356e738>\u001b[0m in \u001b[0;36msortedListToBST\u001b[0;34m(self, head)\u001b[0m\n\u001b[1;32m     45\u001b[0m \u001b[0;34m\u001b[0m\u001b[0m\n\u001b[1;32m     46\u001b[0m         \u001b[0;31m# Find the middle element for the list.\u001b[0m\u001b[0;34m\u001b[0m\u001b[0;34m\u001b[0m\u001b[0;34m\u001b[0m\u001b[0m\n\u001b[0;32m---> 47\u001b[0;31m         \u001b[0mmid\u001b[0m \u001b[0;34m=\u001b[0m \u001b[0mself\u001b[0m\u001b[0;34m.\u001b[0m\u001b[0mfindMiddle\u001b[0m\u001b[0;34m(\u001b[0m\u001b[0mhead\u001b[0m\u001b[0;34m)\u001b[0m\u001b[0;34m\u001b[0m\u001b[0;34m\u001b[0m\u001b[0m\n\u001b[0m\u001b[1;32m     48\u001b[0m \u001b[0;34m\u001b[0m\u001b[0m\n\u001b[1;32m     49\u001b[0m         \u001b[0;31m# The mid becomes the root of the BST.\u001b[0m\u001b[0;34m\u001b[0m\u001b[0;34m\u001b[0m\u001b[0;34m\u001b[0m\u001b[0m\n",
      "\u001b[0;32m<ipython-input-63-3a61d356e738>\u001b[0m in \u001b[0;36mfindMiddle\u001b[0;34m(self, head)\u001b[0m\n\u001b[1;32m     22\u001b[0m \u001b[0;34m\u001b[0m\u001b[0m\n\u001b[1;32m     23\u001b[0m         \u001b[0;31m# Iterate until fastPr doesn't reach the end of the linked list.\u001b[0m\u001b[0;34m\u001b[0m\u001b[0;34m\u001b[0m\u001b[0;34m\u001b[0m\u001b[0m\n\u001b[0;32m---> 24\u001b[0;31m         \u001b[0;32mwhile\u001b[0m \u001b[0mfastPtr\u001b[0m \u001b[0;32mand\u001b[0m \u001b[0mfastPtr\u001b[0m\u001b[0;34m.\u001b[0m\u001b[0mnext\u001b[0m\u001b[0;34m:\u001b[0m\u001b[0;34m\u001b[0m\u001b[0;34m\u001b[0m\u001b[0m\n\u001b[0m\u001b[1;32m     25\u001b[0m             \u001b[0mprevPtr\u001b[0m \u001b[0;34m=\u001b[0m \u001b[0mslowPtr\u001b[0m\u001b[0;34m\u001b[0m\u001b[0;34m\u001b[0m\u001b[0m\n\u001b[1;32m     26\u001b[0m             \u001b[0mslowPtr\u001b[0m \u001b[0;34m=\u001b[0m \u001b[0mslowPtr\u001b[0m\u001b[0;34m.\u001b[0m\u001b[0mnext\u001b[0m\u001b[0;34m\u001b[0m\u001b[0;34m\u001b[0m\u001b[0m\n",
      "\u001b[0;31mAttributeError\u001b[0m: 'list' object has no attribute 'next'"
     ]
    }
   ],
   "source": [
    "x=Solution()\n",
    "x.sortedListToBST([1,2,3,4,5,6])"
   ]
  },
  {
   "cell_type": "code",
   "execution_count": 82,
   "metadata": {},
   "outputs": [
    {
     "data": {
      "text/plain": [
       "[554, 2, 3, 4, 4, 5, 6, 7, 8, 8, 3, 4, 4, 3, 3, 333, 4, 553, 222243]"
      ]
     },
     "execution_count": 82,
     "metadata": {},
     "output_type": "execute_result"
    }
   ],
   "source": [
    "# 大话数据结构中的对于有序列表查找\n",
    "\n",
    "# 哨兵查找方式,坏处在于改变了数列本身！\n",
    "\n",
    "# 哨兵的好处在于将减少了一个 i<len(list) 的判断 ！\n",
    "\n",
    "# Python 拿了对象之后，对对象作的操作是会改变对象的\n",
    "\n",
    "ll=[1,2,3,4,4,5,6,7,8,8,3,4,4,3,3,333,4,553,222243]\n",
    "key= 554\n",
    "i= 0\n",
    "def find_item_in_list(key,lili):\n",
    "    i=0\n",
    "    temp=lili[i]\n",
    "    if lili[i] == key:\n",
    "        return i\n",
    "    else:\n",
    "        lili[0]=key\n",
    "        i=len(lili)-1\n",
    "        while lili[i]!=key:\n",
    "            i-=1\n",
    "        return -1\n",
    "find_item_in_list(key, ll)\n",
    "ll\n",
    "\n",
    "# 插值查找\n",
    "# 对要查找的数值做一个大概的运算之后查找\n",
    "\n",
    "# mid = low + (high-low) * (key-a[low])/(a[high]-a[low])\n",
    "\n",
    "# Fibonacci查找\n",
    "# middle = low + F[k-1]-1\n"
   ]
  },
  {
   "cell_type": "code",
   "execution_count": 79,
   "metadata": {},
   "outputs": [
    {
     "name": "stdout",
     "output_type": "stream",
     "text": [
      "[1, 2, 3]\n"
     ]
    },
    {
     "data": {
      "text/plain": [
       "[1, 2, 3]"
      ]
     },
     "execution_count": 79,
     "metadata": {},
     "output_type": "execute_result"
    }
   ],
   "source": [
    "import copy\n",
    "lll=[1,2,3]\n",
    "\n",
    "def fundo(l):\n",
    "    dd=copy.deepcopy(l)\n",
    "    dd[0]=12\n",
    "    print(l)\n",
    "    \n",
    "    \n",
    "fundo(lll)\n",
    "lll"
   ]
  },
  {
   "cell_type": "code",
   "execution_count": 80,
   "metadata": {},
   "outputs": [
    {
     "ename": "TypeError",
     "evalue": "'str' object does not support item assignment",
     "output_type": "error",
     "traceback": [
      "\u001b[0;31m---------------------------------------------------------------------------\u001b[0m",
      "\u001b[0;31mTypeError\u001b[0m                                 Traceback (most recent call last)",
      "\u001b[0;32m<ipython-input-80-e480d0a95a1a>\u001b[0m in \u001b[0;36m<module>\u001b[0;34m\u001b[0m\n\u001b[1;32m      1\u001b[0m \u001b[0ms\u001b[0m\u001b[0;34m=\u001b[0m\u001b[0;34m'abc'\u001b[0m\u001b[0;34m\u001b[0m\u001b[0;34m\u001b[0m\u001b[0m\n\u001b[0;32m----> 2\u001b[0;31m \u001b[0ms\u001b[0m\u001b[0;34m[\u001b[0m\u001b[0;36m0\u001b[0m\u001b[0;34m]\u001b[0m\u001b[0;34m=\u001b[0m\u001b[0;34m'd'\u001b[0m\u001b[0;34m\u001b[0m\u001b[0;34m\u001b[0m\u001b[0m\n\u001b[0m\u001b[1;32m      3\u001b[0m \u001b[0ms\u001b[0m\u001b[0;34m\u001b[0m\u001b[0;34m\u001b[0m\u001b[0m\n",
      "\u001b[0;31mTypeError\u001b[0m: 'str' object does not support item assignment"
     ]
    }
   ],
   "source": [
    "内存一般由硅制的存储芯片组成，每一个储存单位代价都比磁存储技术昂贵两个数量级！\n",
    "\n"
   ]
  },
  {
   "cell_type": "code",
   "execution_count": 106,
   "metadata": {},
   "outputs": [
    {
     "name": "stdout",
     "output_type": "stream",
     "text": [
      "sort once\n",
      "[2, 11, 33]\n"
     ]
    }
   ],
   "source": [
    "# Bubble sort 升级版\n",
    "# 冒泡算法从最后一个数字开始比较，最小的不断往上（也就是往前）冒。\n",
    "\n",
    "\n",
    "\n",
    "# def bubble_sort(unsortedlist):\n",
    "#     list_length = len(unsortedlist)\n",
    "#     j=0\n",
    "#     while j+1 < list_length:\n",
    "#         i=0\n",
    "#         while i < (list_length-1-j):\n",
    "#             if unsortedlist[i] > unsortedlist[i+1]:\n",
    "#                 unsortedlist[i],unsortedlist[i+1]=unsortedlist[i+1],unsortedlist[i]\n",
    "# #             flag = False\n",
    "# #         elif flag==True:\n",
    "# #             return 'no need to sort'\n",
    "#             i+=1\n",
    "#         j+=1\n",
    "            \n",
    "#     return unsortedlist\n",
    "\n",
    "# bubble_sort(list_exemple)\n",
    "\n",
    "\n",
    "def bubble_sort_loop(unsortedlist):\n",
    "    n = len(unsortedlist)\n",
    "    flag = True\n",
    "    for i in range(0, n-1):\n",
    "        for j in range(0, n-1-i):\n",
    "            if unsortedlist[j]>unsortedlist[j+1]:\n",
    "                unsortedlist[j],unsortedlist[j+1]=unsortedlist[j+1],unsortedlist[j]\n",
    "                flag = False\n",
    "                print('sort once')\n",
    "        if flag==True:\n",
    "            print('no need to sort')\n",
    "            break\n",
    "\n",
    "# bubble_sort_loop(list_exemple)\n",
    "# list_exemple=[1,223,4,21,3,4,544,2,2,344,56674,224521]\n",
    "\n",
    "list_exemple=[11,2,33]\n",
    "\n",
    "bubble_sort_loop(list_exemple)\n",
    "\n",
    "print(list_exemple)"
   ]
  },
  {
   "cell_type": "code",
   "execution_count": 121,
   "metadata": {},
   "outputs": [
    {
     "name": "stdout",
     "output_type": "stream",
     "text": [
      "[1, 2, 3, 3, 4, 5]\n"
     ]
    }
   ],
   "source": [
    "def SelectSort(list_exemple):\n",
    "    \"\"\"\n",
    "    \"\"\"\n",
    "    n = len(list_exemple)\n",
    "    for i in range(0, n):\n",
    "        temp = list_exemple[i]\n",
    "        index = i\n",
    "        for j in range(i+1,n):\n",
    "            if list_exemple[j] < temp:\n",
    "                temp= list_exemple[j]\n",
    "                index = j\n",
    "        if index != i:\n",
    "            list_exemple[i],list_exemple[index] = list_exemple[index],list_exemple[i]\n",
    "\n",
    "\n",
    "            \n",
    "# list_exemple=[11,2,33,0,453,33,323]\n",
    "# list_exemple=[1,2,3,4,5]\n",
    "list_exemple=[3,5,4,3,2,1]\n",
    "SelectSort(list_exemple)\n",
    "print(list_exemple)\n",
    "\n",
    "        "
   ]
  },
  {
   "cell_type": "code",
   "execution_count": 30,
   "metadata": {},
   "outputs": [
    {
     "name": "stdout",
     "output_type": "stream",
     "text": [
      "done 1\n",
      "([2, 4, 7], [4, 7, 2])#\n",
      "done 2\n",
      "([4, 7], [4, 7])#\n",
      "done 4\n",
      "([], [])#\n",
      "left None\n",
      "[7] [7]*\n",
      "right <__main__.TreeNode object at 0x107c66160>\n",
      "left <__main__.TreeNode object at 0x107c66ef0>\n",
      "[] []*\n",
      "right None\n",
      "left <__main__.TreeNode object at 0x107c66390>\n",
      "[3, 5, 6, 8] [5, 3, 8, 6]*\n",
      "done 3\n",
      "([5], [5])#\n",
      "left <__main__.TreeNode object at 0x107d14630>\n",
      "[6, 8] [8, 6]*\n",
      "done 6\n",
      "([8], [8])#\n",
      "left <__main__.TreeNode object at 0x107899710>\n",
      "[] []*\n",
      "right None\n",
      "right <__main__.TreeNode object at 0x107d14358>\n",
      "right <__main__.TreeNode object at 0x107c7a630>\n",
      "df\n",
      "1\n",
      "3\n",
      "2\n",
      "4\n"
     ]
    }
   ],
   "source": [
    "# 前序遍历（中左右）和中序遍历（左中右）和后序遍历（左右中）\n",
    "\n",
    "\n",
    "# 理解不了就背下来吧！！！\n",
    "'''\n",
    "重建二叉树\n",
    "题目描述\n",
    "输入某二叉树的前序遍历和中序遍历的结果，请重建出该二叉树。假设输入的前序遍历和中序遍历的结果中都不含重复的数字。\n",
    "例如输入前序遍历序列{1,2,4,7,3,5,6,8}和中序遍历序列{4,7,2,1,5,3,8,6}，则重建二叉树并返回。\n",
    "'''\n",
    "\n",
    "# 先构造二叉树的一个节点的架构, 注意，这还只是二叉树，不是二叉搜索树，也就是说，7在左子树，比右子树的很多 key 都要大！！\n",
    "class TreeNode:\n",
    "    def __init__(self, x):\n",
    "        self.val = x\n",
    "        self.left = None\n",
    "        self.right = None\n",
    "        \n",
    "        \n",
    "class Solution:\n",
    "    # 返回构造的TreeNode根节点\n",
    "    def reConstructBinaryTree(self, pre, tin):\n",
    "        # write code here\n",
    "        if len(pre) == 0:\n",
    "            return None\n",
    "        if len(pre) == 1:\n",
    "            return TreeNode(pre[0])\n",
    "        else:\n",
    "            res = TreeNode(pre[0]) # 这是关键的一步，也就是确定根的值 \n",
    "            print('done', res.val)\n",
    "            print((pre[1: tin.index(pre[0]) + 1], tin[: tin.index(pre[0])]),end='#\\n')\n",
    "            res.left = self.reConstructBinaryTree(pre[1: tin.index(pre[0]) + 1], tin[: tin.index(pre[0])])\n",
    "            # 然后确定根的左子树\n",
    "            print('left',res.left)\n",
    "            print(pre[tin.index(pre[0]) + 1: ], tin[tin.index(pre[0]) + 1: ],end=\"*\\n\")\n",
    "            res.right = self.reConstructBinaryTree(pre[tin.index(pre[0]) + 1: ], tin[tin.index(pre[0]) + 1: ])\n",
    "            # 然后确定根的右子树\n",
    "            print('right',res.right)\n",
    "        return res\n",
    "\n",
    "x=Solution()\n",
    "kk=x.reConstructBinaryTree([1,2,4,7,3,5,6,8],[4,7,2,1,5,3,8,6])\n",
    "print('df')\n",
    "print(kk.val)\n",
    "# print(kk.right.right.val)\n",
    "print(kk.right.val)\n",
    "print(kk.left.val)\n",
    "print(kk.left.left.val)"
   ]
  },
  {
   "cell_type": "code",
   "execution_count": 6,
   "metadata": {},
   "outputs": [
    {
     "data": {
      "text/plain": [
       "[2, 3]"
      ]
     },
     "execution_count": 6,
     "metadata": {},
     "output_type": "execute_result"
    }
   ],
   "source": [
    "from collections import deque\n",
    "li = [1,2,3]\n",
    "c = deque(li)\n",
    "c.popleft()\n",
    "c.popleft()\n",
    "c.popleft()\n",
    "f = deque(li)\n",
    "f.popleft()\n",
    "q=[]\n",
    "q.extend(c or f)\n",
    "q"
   ]
  },
  {
   "cell_type": "code",
   "execution_count": 12,
   "metadata": {},
   "outputs": [
    {
     "data": {
      "text/plain": [
       "deque([2, 3])"
      ]
     },
     "execution_count": 12,
     "metadata": {},
     "output_type": "execute_result"
    }
   ],
   "source": [
    "a =c or f"
   ]
  },
  {
   "cell_type": "code",
   "execution_count": 31,
   "metadata": {},
   "outputs": [
    {
     "ename": "IndexError",
     "evalue": "pop from empty list",
     "output_type": "error",
     "traceback": [
      "\u001b[0;31m---------------------------------------------------------------------------\u001b[0m",
      "\u001b[0;31mIndexError\u001b[0m                                Traceback (most recent call last)",
      "\u001b[0;32m<ipython-input-31-4ae879c8e51d>\u001b[0m in \u001b[0;36m<module>\u001b[0;34m\u001b[0m\n\u001b[1;32m      5\u001b[0m \u001b[0ma\u001b[0m\u001b[0;34m.\u001b[0m\u001b[0mpop\u001b[0m\u001b[0;34m(\u001b[0m\u001b[0;34m)\u001b[0m\u001b[0;34m\u001b[0m\u001b[0;34m\u001b[0m\u001b[0m\n\u001b[1;32m      6\u001b[0m \u001b[0ma\u001b[0m\u001b[0;34m.\u001b[0m\u001b[0mpop\u001b[0m\u001b[0;34m(\u001b[0m\u001b[0;34m)\u001b[0m\u001b[0;34m\u001b[0m\u001b[0;34m\u001b[0m\u001b[0m\n\u001b[0;32m----> 7\u001b[0;31m \u001b[0ma\u001b[0m\u001b[0;34m.\u001b[0m\u001b[0mpop\u001b[0m\u001b[0;34m(\u001b[0m\u001b[0;34m)\u001b[0m\u001b[0;34m\u001b[0m\u001b[0;34m\u001b[0m\u001b[0m\n\u001b[0m",
      "\u001b[0;31mIndexError\u001b[0m: pop from empty list"
     ]
    }
   ],
   "source": [
    "a = [1,2,3]\n",
    "a.pop()\n",
    "# if a :\n",
    "#     print('e')\n",
    "a.pop()\n",
    "a.pop()\n"
   ]
  },
  {
   "cell_type": "code",
   "execution_count": 32,
   "metadata": {},
   "outputs": [
    {
     "data": {
      "text/plain": [
       "[33, 33, 34]"
      ]
     },
     "execution_count": 32,
     "metadata": {},
     "output_type": "execute_result"
    }
   ],
   "source": [
    "b=[33,33,34]\n",
    "cc=[]\n",
    "cc.extend(b or a)\n",
    "cc"
   ]
  },
  {
   "cell_type": "code",
   "execution_count": null,
   "metadata": {},
   "outputs": [],
   "source": []
  }
 ],
 "metadata": {
  "celltoolbar": "Aucun(e)",
  "kernelspec": {
   "display_name": "Python 3",
   "language": "python",
   "name": "python3"
  },
  "language_info": {
   "codemirror_mode": {
    "name": "ipython",
    "version": 3
   },
   "file_extension": ".py",
   "mimetype": "text/x-python",
   "name": "python",
   "nbconvert_exporter": "python",
   "pygments_lexer": "ipython3",
   "version": "3.7.3"
  }
 },
 "nbformat": 4,
 "nbformat_minor": 2
}
