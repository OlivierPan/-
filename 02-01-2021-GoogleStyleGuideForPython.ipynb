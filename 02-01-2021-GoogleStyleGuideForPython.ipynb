{
 "cells": [
  {
   "cell_type": "markdown",
   "metadata": {},
   "source": [
    "### Some notes about the Python Style Guide from Google"
   ]
  },
  {
   "cell_type": "markdown",
   "metadata": {},
   "source": [
    "##### About Import\n",
    "- Use <b>import</b> statements for packages and modules only, not for individual classes or functions\n",
    "- The namespace management convention is simple. The source of each identifier is indicated in a consistent way\n",
    "- <code>x.Obj</code> says that object <code>Obj</code> is defined in module <code>x</code>.\n"
   ]
  },
  {
   "cell_type": "markdown",
   "metadata": {},
   "source": [
    "#### About Exceptions\n",
    "- Make use of built-in classes when it makes sense.\n",
    "- Do not use <code>assert</code> statements for validating argument values of a public API\n",
    "- <code>assert </code> is used to ensure <b>internal correctness</b>, not to enforce correct usage nor to indicate\n",
    "that some unexpected event occurred.\n",
    "\n"
   ]
  },
  {
   "cell_type": "markdown",
   "metadata": {},
   "source": [
    "#### Lambda Functions\n",
    "- For common operations like multiplication, use the functions from the <code>operator</code> module instead of lambda functions. \n",
    "- For example, prefer <code>operator.mul</code> to <code>lambda x, y: x*y</code>"
   ]
  },
  {
   "cell_type": "markdown",
   "metadata": {},
   "source": [
    "#### Default Argument Values\n",
    "- Do not use mutable objects as default values in the function or method definition\n",
    "- No: <code>def foo(a, b=[]/time.time()/FLAGS.my_thing/Mapping={}):... </code>"
   ]
  },
  {
   "cell_type": "code",
   "execution_count": 78,
   "metadata": {},
   "outputs": [
    {
     "name": "stdout",
     "output_type": "stream",
     "text": [
      "********************\n",
      "23\n",
      "input equals to  {'23': 23}\n",
      "********************\n",
      "\n"
     ]
    },
    {
     "ename": "AttributeError",
     "evalue": "'str' object has no attribute 'items'",
     "output_type": "error",
     "traceback": [
      "\u001b[0;31m---------------------------------------------------------------------------\u001b[0m",
      "\u001b[0;31mAttributeError\u001b[0m                            Traceback (most recent call last)",
      "\u001b[0;32m<ipython-input-78-fa9e1fd7c426>\u001b[0m in \u001b[0;36m<module>\u001b[0;34m\u001b[0m\n\u001b[1;32m     36\u001b[0m \u001b[0mprint\u001b[0m\u001b[0;34m(\u001b[0m\u001b[0mp\u001b[0m\u001b[0;34m.\u001b[0m\u001b[0mname\u001b[0m\u001b[0;34m)\u001b[0m\u001b[0;34m\u001b[0m\u001b[0;34m\u001b[0m\u001b[0m\n\u001b[1;32m     37\u001b[0m \u001b[0;31m# del p.name\u001b[0m\u001b[0;34m\u001b[0m\u001b[0;34m\u001b[0m\u001b[0;34m\u001b[0m\u001b[0m\n\u001b[0;32m---> 38\u001b[0;31m \u001b[0mp\u001b[0m\u001b[0;34m.\u001b[0m\u001b[0mname\u001b[0m \u001b[0;34m=\u001b[0m \u001b[0;34m'fuc'\u001b[0m\u001b[0;34m\u001b[0m\u001b[0;34m\u001b[0m\u001b[0m\n\u001b[0m\u001b[1;32m     39\u001b[0m \u001b[0mprint\u001b[0m\u001b[0;34m(\u001b[0m\u001b[0mp\u001b[0m\u001b[0;34m.\u001b[0m\u001b[0mname\u001b[0m\u001b[0;34m)\u001b[0m\u001b[0;34m\u001b[0m\u001b[0;34m\u001b[0m\u001b[0m\n",
      "\u001b[0;32m<ipython-input-78-fa9e1fd7c426>\u001b[0m in \u001b[0;36mname\u001b[0;34m(self, val)\u001b[0m\n\u001b[1;32m     20\u001b[0m     \u001b[0;34m@\u001b[0m\u001b[0mname\u001b[0m\u001b[0;34m.\u001b[0m\u001b[0msetter\u001b[0m\u001b[0;34m\u001b[0m\u001b[0;34m\u001b[0m\u001b[0m\n\u001b[1;32m     21\u001b[0m     \u001b[0;32mdef\u001b[0m \u001b[0mname\u001b[0m\u001b[0;34m(\u001b[0m\u001b[0mself\u001b[0m\u001b[0;34m,\u001b[0m \u001b[0mval\u001b[0m\u001b[0;34m)\u001b[0m\u001b[0;34m:\u001b[0m\u001b[0;34m\u001b[0m\u001b[0;34m\u001b[0m\u001b[0m\n\u001b[0;32m---> 22\u001b[0;31m         \u001b[0;32mfor\u001b[0m \u001b[0ma\u001b[0m\u001b[0;34m,\u001b[0m \u001b[0mb\u001b[0m \u001b[0;32min\u001b[0m \u001b[0mval\u001b[0m\u001b[0;34m.\u001b[0m\u001b[0mitems\u001b[0m\u001b[0;34m(\u001b[0m\u001b[0;34m)\u001b[0m\u001b[0;34m:\u001b[0m\u001b[0;34m\u001b[0m\u001b[0;34m\u001b[0m\u001b[0m\n\u001b[0m\u001b[1;32m     23\u001b[0m             \u001b[0mprint\u001b[0m\u001b[0;34m(\u001b[0m\u001b[0ma\u001b[0m\u001b[0;34m)\u001b[0m\u001b[0;34m\u001b[0m\u001b[0;34m\u001b[0m\u001b[0m\n\u001b[1;32m     24\u001b[0m         \u001b[0mprint\u001b[0m\u001b[0;34m(\u001b[0m\u001b[0;34m'input equals to '\u001b[0m\u001b[0;34m,\u001b[0m\u001b[0mval\u001b[0m\u001b[0;34m)\u001b[0m\u001b[0;34m\u001b[0m\u001b[0;34m\u001b[0m\u001b[0m\n",
      "\u001b[0;31mAttributeError\u001b[0m: 'str' object has no attribute 'items'"
     ]
    }
   ],
   "source": [
    "# @property decorator is a built-in decorator in Python which is helpful in defining the properties effortlessly \n",
    "# without manually calling the inbuilt function property(). \n",
    "# Which is used to return the property attributes of a class from the stated \n",
    "# getter, setter and deleter as parameters.\n",
    "class Portal: \n",
    "    \n",
    "    # Defining __init__ method \n",
    "    def __init__(self): \n",
    "        self.__name ='' \n",
    "      \n",
    "    # Using @property decorator \n",
    "    \n",
    "    @property\n",
    "    # Getter method \n",
    "    def name(self): \n",
    "        return self.__name \n",
    "    \n",
    "        \n",
    "    # Setter method \n",
    "    @name.setter \n",
    "    def name(self, val):\n",
    "        for a, b in val.items():\n",
    "            print(a)\n",
    "        print('input equals to ',val)\n",
    "#         self.__name = val \n",
    "  \n",
    "    # Deleter method \n",
    "    @name.deleter \n",
    "    def name(self): \n",
    "        del self.__name\n",
    "        \n",
    "p = Portal()\n",
    "print('*'*20)\n",
    "p.name = {'23':23}\n",
    "print('*'*20)\n",
    "print(p.name)\n",
    "# del p.name\n",
    "p.name = 'fuc'\n",
    "print(p.name)"
   ]
  },
  {
   "cell_type": "code",
   "execution_count": 102,
   "metadata": {},
   "outputs": [
    {
     "name": "stdout",
     "output_type": "stream",
     "text": [
      "0\n",
      "3.0\n",
      "12.0\n",
      "4.0\n",
      "16.0\n"
     ]
    }
   ],
   "source": [
    "import math\n",
    "class Square:\n",
    "    def __init__(self, side=0):\n",
    "        self.side = side\n",
    "    @property\n",
    "    def area(self):\n",
    "        return self._get_area()\n",
    "    \n",
    "    @area.setter\n",
    "    def area(self, area):\n",
    "        return self._set_area(area)\n",
    "    \n",
    "    def _get_area(self):\n",
    "        return self.side ** 2\n",
    "    def _set_area(self, area):\n",
    "        self.side = math.sqrt(area)\n",
    "    @property\n",
    "    def perimeter(self):\n",
    "        return self.side*4\n",
    "\n",
    "s = Square()\n",
    "print(s.area)\n",
    "s.area=9\n",
    "print(s.side)\n",
    "print(s.perimeter)\n",
    "s.area=16\n",
    "print(s.side)\n",
    "print(s.perimeter)"
   ]
  },
  {
   "cell_type": "markdown",
   "metadata": {},
   "source": [
    "#### True/False Evaluations\n",
    "- In Python, <code>0, None, [], {}, ''</code> all evaluate as false in a boolean context\n",
    "- BUT! <code>0, [], {}, ''</code>  are not None.\n",
    "- If you need to distinguish <code>False</code> from <code>None</code>, then chain the expression, such as <code>if not x and x is not None:</code>. In fact, <code>if not x</code> cover the case x=None\n",
    "- For sequences(strings, lists, tuples), use the fact that <b>empty sequences are false</b>. So, <code>if seq </code> is preferable to <code>if len(x)</code>.\n"
   ]
  },
  {
   "cell_type": "markdown",
   "metadata": {},
   "source": [
    "#### Function and method Decorators\n",
    "- Use decorators judiciously/ with prudence when there is a clear advantage.\n",
    "- Avoid <code>staticmethod</code>, write a module level function instead\n",
    "- Limit use of <code>classmethod</code>\n"
   ]
  },
  {
   "cell_type": "code",
   "execution_count": 112,
   "metadata": {},
   "outputs": [
    {
     "name": "stdout",
     "output_type": "stream",
     "text": [
      "This will Build a very long longlong long long string\n",
      "This is long long long long too\n"
     ]
    }
   ],
   "source": [
    "x= ('This will Build a very long long'\n",
    "    'long long long string')\n",
    "y= 'This is long long '\\\n",
    "   'long long too' \n",
    "print(x)\n",
    "print(y)"
   ]
  },
  {
   "cell_type": "markdown",
   "metadata": {},
   "source": [
    "#### Indentation\n",
    "- Indent code block with 4 spaces\n",
    "- Avoid tabs\n"
   ]
  },
  {
   "cell_type": "code",
   "execution_count": 113,
   "metadata": {},
   "outputs": [],
   "source": [
    "golomb3=[0,1,2]\n",
    "golomb4=[\n",
    "    0,\n",
    "    1,\n",
    "    2,\n",
    "]\n",
    "\n",
    "# not good\n",
    "# golomb5=[\n",
    "#     0,\n",
    "#     1,\n",
    "#     2\n",
    "# ]"
   ]
  },
  {
   "cell_type": "markdown",
   "metadata": {},
   "source": [
    "#### String\n",
    "- Avoid using the <code>+</code> and <code>+=</code> operators to accumulate a string within a loop\n",
    "- Since strings are immutable, this creates unnecessary temporary objects and results in quadratic\n",
    "- rather than linear running time\n",
    "- Instead, add each substring to a list and <code>''.join</code>the list after the loop"
   ]
  },
  {
   "cell_type": "code",
   "execution_count": 119,
   "metadata": {},
   "outputs": [
    {
     "name": "stdout",
     "output_type": "stream",
     "text": [
      "None considered flase\n",
      " considered flase\n",
      "{} considered flase\n",
      "[] considered flase\n",
      "() considered flase\n",
      "****************************************\n",
      " is not None\n",
      "{} is not None\n",
      "[] is not None\n",
      "() is not None\n"
     ]
    }
   ],
   "source": [
    "aaa=[None,'', {},[],()]\n",
    "for a in aaa:\n",
    "    if not a: # means boolean distinguisher\n",
    "        print(f'{a} considered flase')\n",
    "\n",
    "print('*'*40)\n",
    "        \n",
    "for a in aaa:\n",
    "    if a is not None:\n",
    "        print(f'{a} is not None') # means only None is None !"
   ]
  },
  {
   "cell_type": "code",
   "execution_count": 36,
   "metadata": {},
   "outputs": [
    {
     "name": "stdout",
     "output_type": "stream",
     "text": [
      "Split input :  sometimes when you have an input longer than the screen erereredfd23\n",
      "sometimes when you have an input longer than the screen erereredfd23\n"
     ]
    },
    {
     "ename": "ValueError",
     "evalue": "Sign not allowed in string format specifier",
     "output_type": "error",
     "traceback": [
      "\u001b[0;31m---------------------------------------------------------------------------\u001b[0m",
      "\u001b[0;31mValueError\u001b[0m                                Traceback (most recent call last)",
      "\u001b[0;32m<ipython-input-36-fc54fcb59011>\u001b[0m in \u001b[0;36m<module>\u001b[0;34m\u001b[0m\n\u001b[1;32m      7\u001b[0m \u001b[0mprint\u001b[0m\u001b[0;34m(\u001b[0m\u001b[0;34m'{0: <10}'\u001b[0m\u001b[0;34m.\u001b[0m\u001b[0mformat\u001b[0m\u001b[0;34m(\u001b[0m\u001b[0mstring\u001b[0m\u001b[0;34m)\u001b[0m\u001b[0;34m)\u001b[0m\u001b[0;34m\u001b[0m\u001b[0;34m\u001b[0m\u001b[0m\n\u001b[1;32m      8\u001b[0m \u001b[0mwidth\u001b[0m \u001b[0;34m=\u001b[0m \u001b[0;36m12\u001b[0m\u001b[0;34m\u001b[0m\u001b[0;34m\u001b[0m\u001b[0m\n\u001b[0;32m----> 9\u001b[0;31m \u001b[0mprint\u001b[0m\u001b[0;34m(\u001b[0m\u001b[0;34mf'{string :< 12}'\u001b[0m\u001b[0;34m)\u001b[0m\u001b[0;34m\u001b[0m\u001b[0;34m\u001b[0m\u001b[0m\n\u001b[0m\u001b[1;32m     10\u001b[0m \u001b[0;34m\u001b[0m\u001b[0m\n\u001b[1;32m     11\u001b[0m \u001b[0;31m# one_line = ('yes' if len('abcd')<=3 else 'nei'\\\u001b[0m\u001b[0;34m\u001b[0m\u001b[0;34m\u001b[0m\u001b[0;34m\u001b[0m\u001b[0m\n",
      "\u001b[0;31mValueError\u001b[0m: Sign not allowed in string format specifier"
     ]
    }
   ],
   "source": [
    "# something new\n",
    "string = 'sometimes when you have an input longer than the screen '\\\n",
    "    'ererere'\\\n",
    "    'dfd'\\\n",
    "    '23'\n",
    "print(\"Split input : \", string)\n",
    "print('{0: <10}'.format(string))\n",
    "width = 12\n",
    "print(f'{string :< 12}')\n",
    "\n",
    "# one_line = ('yes' if len('abcd')<=3 else 'nei'\\\n",
    "#             'n')\n",
    "# print(one_line)"
   ]
  },
  {
   "cell_type": "code",
   "execution_count": 120,
   "metadata": {},
   "outputs": [
    {
     "name": "stdout",
     "output_type": "stream",
     "text": [
      "dferereredfd23\n"
     ]
    }
   ],
   "source": [
    "a= 'df'\\\n",
    "    'ererere'\\\n",
    "    'dfd'\\\n",
    "    '23'\n",
    "print(a)"
   ]
  },
  {
   "cell_type": "code",
   "execution_count": 121,
   "metadata": {},
   "outputs": [
    {
     "name": "stdout",
     "output_type": "stream",
     "text": [
      "no, nein, nyet\n"
     ]
    }
   ],
   "source": [
    "slitly_split = ('yes' if len('acdb')==3 else 'no, nein, nyet')\n",
    "print(slitly_split)"
   ]
  },
  {
   "cell_type": "code",
   "execution_count": null,
   "metadata": {},
   "outputs": [],
   "source": []
  }
 ],
 "metadata": {
  "kernelspec": {
   "display_name": "Python 3",
   "language": "python",
   "name": "python3"
  },
  "language_info": {
   "codemirror_mode": {
    "name": "ipython",
    "version": 3
   },
   "file_extension": ".py",
   "mimetype": "text/x-python",
   "name": "python",
   "nbconvert_exporter": "python",
   "pygments_lexer": "ipython3",
   "version": "3.7.3"
  }
 },
 "nbformat": 4,
 "nbformat_minor": 2
}
